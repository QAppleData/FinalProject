{
  "nbformat": 4,
  "nbformat_minor": 0,
  "metadata": {
    "colab": {
      "name": "Lending_Club_Applegate.ipynb",
      "provenance": [],
      "collapsed_sections": [],
      "authorship_tag": "ABX9TyPmMSy0khbGYKAUaeC9hGme",
      "include_colab_link": true
    },
    "kernelspec": {
      "name": "python3",
      "display_name": "Python 3"
    }
  },
  "cells": [
    {
      "cell_type": "markdown",
      "metadata": {
        "id": "view-in-github",
        "colab_type": "text"
      },
      "source": [
        "<a href=\"https://colab.research.google.com/github/QAppleData/FinalProject/blob/master/Lending_Club_Applegate.ipynb\" target=\"_parent\"><img src=\"https://colab.research.google.com/assets/colab-badge.svg\" alt=\"Open In Colab\"/></a>"
      ]
    },
    {
      "cell_type": "code",
      "metadata": {
        "id": "so4sx4kNS60x",
        "colab_type": "code",
        "colab": {}
      },
      "source": [
        "import pandas as pd\n",
        "import matplotlib.pyplot as plt\n",
        "import numpy as np"
      ],
      "execution_count": 1,
      "outputs": []
    },
    {
      "cell_type": "markdown",
      "metadata": {
        "id": "g5fdnMzGI71B",
        "colab_type": "text"
      },
      "source": [
        "## Part I Sampling from the whole dataset "
      ]
    },
    {
      "cell_type": "code",
      "metadata": {
        "id": "EcsX-poPYDVf",
        "colab_type": "code",
        "colab": {
          "resources": {
            "http://localhost:8080/nbextensions/google.colab/files.js": {
              "data": "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",
              "ok": true,
              "headers": [
                [
                  "content-type",
                  "application/javascript"
                ]
              ],
              "status": 200,
              "status_text": ""
            }
          },
          "base_uri": "https://localhost:8080/",
          "height": 72
        },
        "outputId": "5bc616bf-95d1-44c0-d825-5e03ac118062"
      },
      "source": [
        "# upload data (Data source: Kaggle)\n",
        "from google.colab import files\n",
        "uploaded = files.upload()"
      ],
      "execution_count": 103,
      "outputs": [
        {
          "output_type": "display_data",
          "data": {
            "text/html": [
              "\n",
              "     <input type=\"file\" id=\"files-301d905a-7efd-40bf-87cb-130478271354\" name=\"files[]\" multiple disabled\n",
              "        style=\"border:none\" />\n",
              "     <output id=\"result-301d905a-7efd-40bf-87cb-130478271354\">\n",
              "      Upload widget is only available when the cell has been executed in the\n",
              "      current browser session. Please rerun this cell to enable.\n",
              "      </output>\n",
              "      <script src=\"/nbextensions/google.colab/files.js\"></script> "
            ],
            "text/plain": [
              "<IPython.core.display.HTML object>"
            ]
          },
          "metadata": {
            "tags": []
          }
        },
        {
          "output_type": "stream",
          "text": [
            "Saving loan_clean.csv to loan_clean.csv\n"
          ],
          "name": "stdout"
        }
      ]
    },
    {
      "cell_type": "code",
      "metadata": {
        "id": "sND99fyWYXX2",
        "colab_type": "code",
        "colab": {}
      },
      "source": [
        "import io\n",
        "df = pd.read_csv(io.BytesIO(uploaded['loan.csv']))"
      ],
      "execution_count": null,
      "outputs": []
    },
    {
      "cell_type": "code",
      "metadata": {
        "id": "s-EHgiofZ1RS",
        "colab_type": "code",
        "colab": {
          "base_uri": "https://localhost:8080/",
          "height": 187
        },
        "outputId": "3b7c0d4c-0d77-461f-8057-1104de0326d9"
      },
      "source": [
        " # Investigate the type of loan status\n",
        " df.loan_status.value_counts().sort_index()"
      ],
      "execution_count": null,
      "outputs": [
        {
          "output_type": "execute_result",
          "data": {
            "text/plain": [
              "Charged Off                                             261655\n",
              "Current                                                 919695\n",
              "Default                                                     31\n",
              "Does not meet the credit policy. Status:Charged Off        761\n",
              "Does not meet the credit policy. Status:Fully Paid        1988\n",
              "Fully Paid                                             1041952\n",
              "In Grace Period                                           8952\n",
              "Late (16-30 days)                                         3737\n",
              "Late (31-120 days)                                       21897\n",
              "Name: loan_status, dtype: int64"
            ]
          },
          "metadata": {
            "tags": []
          },
          "execution_count": 14
        }
      ]
    },
    {
      "cell_type": "code",
      "metadata": {
        "id": "_035MPtkaBMT",
        "colab_type": "code",
        "colab": {}
      },
      "source": [
        "# Filter out only the fully paid and charged off instance\n",
        "df_default = df[df['loan_status'].isin (['Fully Paid','Charged Off'])]"
      ],
      "execution_count": null,
      "outputs": []
    },
    {
      "cell_type": "code",
      "metadata": {
        "id": "KxC2n1ROd7Dz",
        "colab_type": "code",
        "colab": {
          "base_uri": "https://localhost:8080/",
          "height": 34
        },
        "outputId": "77da4771-908d-4e3f-c66a-684be5a5235d"
      },
      "source": [
        "# See how many records left\n",
        "df_default.shape"
      ],
      "execution_count": null,
      "outputs": [
        {
          "output_type": "execute_result",
          "data": {
            "text/plain": [
              "(1303607, 145)"
            ]
          },
          "metadata": {
            "tags": []
          },
          "execution_count": 34
        }
      ]
    },
    {
      "cell_type": "code",
      "metadata": {
        "id": "IbRaV4-gTLGm",
        "colab_type": "code",
        "colab": {}
      },
      "source": [
        "# Create a balanced sample dataset while maxmizing the sample number\n",
        "\n",
        "sample_size = 260000\n",
        "\n",
        "data = df_default.groupby('loan_status').apply(lambda x: x.sample(sample_size))"
      ],
      "execution_count": null,
      "outputs": []
    },
    {
      "cell_type": "code",
      "metadata": {
        "id": "8AFMPVCDfnEq",
        "colab_type": "code",
        "colab": {}
      },
      "source": [
        "#shuffle the dataframe rows\n",
        "\n",
        "data = data.sample(frac=1) "
      ],
      "execution_count": null,
      "outputs": []
    },
    {
      "cell_type": "code",
      "metadata": {
        "id": "lZTFaftRWRIs",
        "colab_type": "code",
        "colab": {
          "base_uri": "https://localhost:8080/",
          "height": 34
        },
        "outputId": "8f590dfa-8a56-4339-9382-932a5a86bf92"
      },
      "source": [
        "# make sure we have 520K records\n",
        "data.shape"
      ],
      "execution_count": null,
      "outputs": [
        {
          "output_type": "execute_result",
          "data": {
            "text/plain": [
              "(520000, 145)"
            ]
          },
          "metadata": {
            "tags": []
          },
          "execution_count": 45
        }
      ]
    },
    {
      "cell_type": "code",
      "metadata": {
        "id": "0F1_zGnFu8Wg",
        "colab_type": "code",
        "colab": {}
      },
      "source": [
        "# Start with hand-picked features that should be relative to loan status (Based on full description of each fields and common sense)\n",
        "\n",
        "features = ['id',\n",
        " 'loan_amnt',\n",
        " 'funded_amnt',\n",
        " 'funded_amnt_inv',\n",
        " 'term',\n",
        " 'int_rate',\n",
        " 'installment',\n",
        " 'grade',\n",
        " 'emp_length',\n",
        " 'home_ownership',\n",
        " 'annual_inc',\n",
        " 'verification_status',\n",
        " 'purpose',\n",
        " 'addr_state',\n",
        " 'dti',\n",
        " 'earliest_cr_line',\n",
        " 'inq_last_6mths',\n",
        " 'open_acc',\n",
        " 'pub_rec',\n",
        " 'revol_bal',\n",
        " 'revol_util',\n",
        " 'total_acc',\n",
        " 'out_prncp',\n",
        " 'out_prncp_inv',\n",
        " 'total_pymnt',\n",
        " 'total_pymnt_inv',\n",
        " 'total_rec_prncp',\n",
        " 'total_rec_int',\n",
        " 'loan_status']"
      ],
      "execution_count": null,
      "outputs": []
    },
    {
      "cell_type": "markdown",
      "metadata": {
        "id": "qA2ycVWTdi7X",
        "colab_type": "text"
      },
      "source": [
        "#full description of each fields:\n",
        "\n",
        "LoanStatNew\t | Description\n",
        "--- | ---\n",
        "zip_code\t|The first 3 numbers of the zip code provided by the borrower in the loan application.\n",
        "addr_state\t|The state provided by the borrower in the loan application\n",
        "annual_inc|\tThe annual income provided by the borrower during registration.\n",
        "collection_recovery_fee |\tpost charge off collection fee\n",
        "collections_12_mths_ex_med |\tNumber of collections in 12 months excluding medical collections\n",
        "delinq_2yrs\t|The number of 30+ days past-due incidences of delinquency in the borrower’s credit file for the past 2 years\n",
        "desc |\tLoan description provided by the borrower\n",
        "dti\t| A ratio calculated using the borrower’s total monthly debt payments on the total debt obligations, excluding mortgage and the requested LC loan, divided by the borrower’s self-reported monthly income.\n",
        "earliest_cr_line\t|The month the borrower’s earliest reported credit line was opened\n",
        "emp_length|\tEmployment length in years. Possible values are between 0 and 10 where 0 means less than one year and 10 means ten or more years.\n",
        "emp_title|\tThe job title supplied by the Borrower when applying for the loan.\n",
        "fico_range_high\t|The upper boundary of range the borrower’s FICO belongs to.\n",
        "fico_range_low|\tThe lower boundary of range the borrower’s FICO belongs to.\n",
        "funded_amnt |\tThe total amount committed to that loan at that point in time.\n",
        "funded_amnt_inv|\tThe total amount committed by investors for that loan at that point in time.\n",
        "grade |\tLC assigned loan grade\n",
        "home_ownership|\tThe home ownership status provided by the borrower during registration. Our values are: RENT, OWN, MORTGAGE, OTHER.\n",
        "id |\tA unique LC assigned ID for the loan listing.\n",
        "initial_list_status |\tThe initial listing status of the loan. Possible values are – W, F\n",
        "inq_last_6mths |\tThe number of inquiries by creditors during the past 6 months.\n",
        "installment\t| The monthly payment owed by the borrower if the loan originates.\n",
        "int_rate |\tInterest Rate on the loan\n",
        "is_inc_v |\tIndicates if income was verified by LC, not verified, or if the income source was verified\n",
        "issue_d\t | The month which the loan was funded\n",
        "last_credit_pull_d |\tThe most recent month LC pulled credit for this loan\n",
        "last_fico_range_high |\tThe last upper boundary of range the borrower’s FICO belongs to pulled.\n",
        "last_fico_range_low |\tThe last lower boundary of range the borrower’s FICO belongs to pulled.\n",
        "last_pymnt_amnt\t| Last total payment amount received\n",
        "last_pymnt_d |\tLast month payment was received\n",
        "loan_amnt |\tThe listed amount of the loan applied for by the borrower. If at some point in time, the credit department reduces the loan amount, then it will be reflected in this value.\n",
        "loan_status |\tCurrent status of the loan\n",
        "member_id |\tA unique LC assigned Id for the borrower member.\n",
        "mths_since_last_delinq\t| The number of months since the borrower’s last delinquency.\n",
        "mths_since_last_major_derog\t| Months since most recent 90-day or worse rating\n",
        "mths_since_last_record |\tThe number of months since the last public record.\n",
        "next_pymnt_d\t| Next scheduled payment date\n",
        "open_acc\t| The number of open credit lines in the borrower’s credit file.\n",
        "out_prncp |\tRemaining outstanding principal for total amount funded\n",
        "out_prncp_inv\t| Remaining outstanding principal for portion of total amount funded by investors\n",
        "policy_code |\tPublicly available policy_code=1, new products not publicly available policy_code=2\n",
        "pub_rec\t|Number of derogatory public records\n",
        "purpose\t| A category provided by the borrower for the loan request.\n",
        "pymnt_plan |\tIndicates if a payment plan has been put in place for the loan\n",
        "recoveries |\tpost charge off gross recovery\n",
        "revol_bal |\tTotal credit revolving balance\n",
        "revol_util|\tRevolving line utilization rate, or the amount of credit the borrower is using relative to all available revolving credit.\n",
        "sub_grade |\tLC assigned loan subgrade\n",
        "term\t| The number of payments on the loan. Values are in months and can be either 36 or 60.\n",
        "title |\tThe loan title provided by the borrower\n",
        "total_acc\t| The total number of credit lines currently in the borrower’s credit file\n",
        "total_pymnt\t|Payments received to date for total amount funded\n",
        "total_pymnt_inv |\tPayments received to date for portion of total amount funded by investors\n",
        "total_rec_int\t| Interest received to date\n",
        "total_rec_late_fee|\tLate fees received to date\n",
        "total_rec_prncp\t| Principal received to date\n",
        "url\t| URL for the LC page with listing data."
      ]
    },
    {
      "cell_type": "code",
      "metadata": {
        "id": "k9RcSEaqxWQg",
        "colab_type": "code",
        "colab": {}
      },
      "source": [
        "df_clean = data.loc[:, data.columns.isin(features)]"
      ],
      "execution_count": null,
      "outputs": []
    },
    {
      "cell_type": "code",
      "metadata": {
        "id": "oyGMd06Ay8Sa",
        "colab_type": "code",
        "colab": {
          "base_uri": "https://localhost:8080/",
          "height": 317
        },
        "outputId": "df467dc0-ac2b-4a9b-c864-632147c6a08a"
      },
      "source": [
        "df_clean.describe()"
      ],
      "execution_count": null,
      "outputs": [
        {
          "output_type": "execute_result",
          "data": {
            "text/html": [
              "<div>\n",
              "<style scoped>\n",
              "    .dataframe tbody tr th:only-of-type {\n",
              "        vertical-align: middle;\n",
              "    }\n",
              "\n",
              "    .dataframe tbody tr th {\n",
              "        vertical-align: top;\n",
              "    }\n",
              "\n",
              "    .dataframe thead th {\n",
              "        text-align: right;\n",
              "    }\n",
              "</style>\n",
              "<table border=\"1\" class=\"dataframe\">\n",
              "  <thead>\n",
              "    <tr style=\"text-align: right;\">\n",
              "      <th></th>\n",
              "      <th>id</th>\n",
              "      <th>loan_amnt</th>\n",
              "      <th>funded_amnt</th>\n",
              "      <th>funded_amnt_inv</th>\n",
              "      <th>int_rate</th>\n",
              "      <th>installment</th>\n",
              "      <th>annual_inc</th>\n",
              "      <th>dti</th>\n",
              "      <th>inq_last_6mths</th>\n",
              "      <th>open_acc</th>\n",
              "      <th>pub_rec</th>\n",
              "      <th>revol_bal</th>\n",
              "      <th>revol_util</th>\n",
              "      <th>total_acc</th>\n",
              "      <th>out_prncp</th>\n",
              "      <th>out_prncp_inv</th>\n",
              "      <th>total_pymnt</th>\n",
              "      <th>total_pymnt_inv</th>\n",
              "      <th>total_rec_prncp</th>\n",
              "      <th>total_rec_int</th>\n",
              "    </tr>\n",
              "  </thead>\n",
              "  <tbody>\n",
              "    <tr>\n",
              "      <th>count</th>\n",
              "      <td>0.0</td>\n",
              "      <td>520000.000000</td>\n",
              "      <td>520000.000000</td>\n",
              "      <td>520000.000000</td>\n",
              "      <td>520000.000000</td>\n",
              "      <td>520000.000000</td>\n",
              "      <td>5.200000e+05</td>\n",
              "      <td>519883.000000</td>\n",
              "      <td>520000.000000</td>\n",
              "      <td>520000.000000</td>\n",
              "      <td>520000.000000</td>\n",
              "      <td>5.200000e+05</td>\n",
              "      <td>519690.000000</td>\n",
              "      <td>520000.000000</td>\n",
              "      <td>520000.0</td>\n",
              "      <td>520000.0</td>\n",
              "      <td>520000.000000</td>\n",
              "      <td>520000.000000</td>\n",
              "      <td>520000.000000</td>\n",
              "      <td>520000.000000</td>\n",
              "    </tr>\n",
              "    <tr>\n",
              "      <th>mean</th>\n",
              "      <td>NaN</td>\n",
              "      <td>14843.567548</td>\n",
              "      <td>14835.311587</td>\n",
              "      <td>14810.954410</td>\n",
              "      <td>14.177889</td>\n",
              "      <td>448.191886</td>\n",
              "      <td>7.395996e+04</td>\n",
              "      <td>18.990014</td>\n",
              "      <td>0.705150</td>\n",
              "      <td>11.718988</td>\n",
              "      <td>0.227308</td>\n",
              "      <td>1.591853e+04</td>\n",
              "      <td>53.000990</td>\n",
              "      <td>24.929212</td>\n",
              "      <td>0.0</td>\n",
              "      <td>0.0</td>\n",
              "      <td>12337.672171</td>\n",
              "      <td>12317.166127</td>\n",
              "      <td>9248.838602</td>\n",
              "      <td>2499.253099</td>\n",
              "    </tr>\n",
              "    <tr>\n",
              "      <th>std</th>\n",
              "      <td>NaN</td>\n",
              "      <td>8749.542359</td>\n",
              "      <td>8745.513938</td>\n",
              "      <td>8748.356923</td>\n",
              "      <td>4.956628</td>\n",
              "      <td>261.688736</td>\n",
              "      <td>6.722599e+04</td>\n",
              "      <td>11.678638</td>\n",
              "      <td>0.971123</td>\n",
              "      <td>5.533693</td>\n",
              "      <td>0.623367</td>\n",
              "      <td>2.117054e+04</td>\n",
              "      <td>24.275161</td>\n",
              "      <td>12.044287</td>\n",
              "      <td>0.0</td>\n",
              "      <td>0.0</td>\n",
              "      <td>9661.024753</td>\n",
              "      <td>9657.256769</td>\n",
              "      <td>8340.504618</td>\n",
              "      <td>2647.194724</td>\n",
              "    </tr>\n",
              "    <tr>\n",
              "      <th>min</th>\n",
              "      <td>NaN</td>\n",
              "      <td>500.000000</td>\n",
              "      <td>500.000000</td>\n",
              "      <td>0.000000</td>\n",
              "      <td>5.310000</td>\n",
              "      <td>16.080000</td>\n",
              "      <td>0.000000e+00</td>\n",
              "      <td>0.000000</td>\n",
              "      <td>0.000000</td>\n",
              "      <td>0.000000</td>\n",
              "      <td>0.000000</td>\n",
              "      <td>0.000000e+00</td>\n",
              "      <td>0.000000</td>\n",
              "      <td>2.000000</td>\n",
              "      <td>0.0</td>\n",
              "      <td>0.0</td>\n",
              "      <td>0.000000</td>\n",
              "      <td>0.000000</td>\n",
              "      <td>0.000000</td>\n",
              "      <td>0.000000</td>\n",
              "    </tr>\n",
              "    <tr>\n",
              "      <th>25%</th>\n",
              "      <td>NaN</td>\n",
              "      <td>8000.000000</td>\n",
              "      <td>8000.000000</td>\n",
              "      <td>8000.000000</td>\n",
              "      <td>10.900000</td>\n",
              "      <td>259.690000</td>\n",
              "      <td>4.500000e+04</td>\n",
              "      <td>12.400000</td>\n",
              "      <td>0.000000</td>\n",
              "      <td>8.000000</td>\n",
              "      <td>0.000000</td>\n",
              "      <td>5.971000e+03</td>\n",
              "      <td>35.000000</td>\n",
              "      <td>16.000000</td>\n",
              "      <td>0.0</td>\n",
              "      <td>0.0</td>\n",
              "      <td>5218.089735</td>\n",
              "      <td>5200.667500</td>\n",
              "      <td>2875.170000</td>\n",
              "      <td>796.880000</td>\n",
              "    </tr>\n",
              "    <tr>\n",
              "      <th>50%</th>\n",
              "      <td>NaN</td>\n",
              "      <td>13000.000000</td>\n",
              "      <td>13000.000000</td>\n",
              "      <td>12925.000000</td>\n",
              "      <td>13.660000</td>\n",
              "      <td>385.740000</td>\n",
              "      <td>6.300000e+04</td>\n",
              "      <td>18.410000</td>\n",
              "      <td>0.000000</td>\n",
              "      <td>11.000000</td>\n",
              "      <td>0.000000</td>\n",
              "      <td>1.111750e+04</td>\n",
              "      <td>53.600000</td>\n",
              "      <td>23.000000</td>\n",
              "      <td>0.0</td>\n",
              "      <td>0.0</td>\n",
              "      <td>9746.450000</td>\n",
              "      <td>9724.495000</td>\n",
              "      <td>6569.455000</td>\n",
              "      <td>1643.740000</td>\n",
              "    </tr>\n",
              "    <tr>\n",
              "      <th>75%</th>\n",
              "      <td>NaN</td>\n",
              "      <td>20000.000000</td>\n",
              "      <td>20000.000000</td>\n",
              "      <td>20000.000000</td>\n",
              "      <td>17.140000</td>\n",
              "      <td>590.040000</td>\n",
              "      <td>8.900000e+04</td>\n",
              "      <td>24.940000</td>\n",
              "      <td>1.000000</td>\n",
              "      <td>15.000000</td>\n",
              "      <td>0.000000</td>\n",
              "      <td>1.950200e+04</td>\n",
              "      <td>71.700000</td>\n",
              "      <td>32.000000</td>\n",
              "      <td>0.0</td>\n",
              "      <td>0.0</td>\n",
              "      <td>16903.503309</td>\n",
              "      <td>16886.392500</td>\n",
              "      <td>13000.000000</td>\n",
              "      <td>3212.387500</td>\n",
              "    </tr>\n",
              "    <tr>\n",
              "      <th>max</th>\n",
              "      <td>NaN</td>\n",
              "      <td>40000.000000</td>\n",
              "      <td>40000.000000</td>\n",
              "      <td>40000.000000</td>\n",
              "      <td>30.990000</td>\n",
              "      <td>1717.630000</td>\n",
              "      <td>9.500000e+06</td>\n",
              "      <td>999.000000</td>\n",
              "      <td>8.000000</td>\n",
              "      <td>86.000000</td>\n",
              "      <td>86.000000</td>\n",
              "      <td>2.568995e+06</td>\n",
              "      <td>366.600000</td>\n",
              "      <td>176.000000</td>\n",
              "      <td>0.0</td>\n",
              "      <td>0.0</td>\n",
              "      <td>62884.797382</td>\n",
              "      <td>62862.510000</td>\n",
              "      <td>40000.000000</td>\n",
              "      <td>27884.800000</td>\n",
              "    </tr>\n",
              "  </tbody>\n",
              "</table>\n",
              "</div>"
            ],
            "text/plain": [
              "        id      loan_amnt  ...  total_rec_prncp  total_rec_int\n",
              "count  0.0  520000.000000  ...    520000.000000  520000.000000\n",
              "mean   NaN   14843.567548  ...      9248.838602    2499.253099\n",
              "std    NaN    8749.542359  ...      8340.504618    2647.194724\n",
              "min    NaN     500.000000  ...         0.000000       0.000000\n",
              "25%    NaN    8000.000000  ...      2875.170000     796.880000\n",
              "50%    NaN   13000.000000  ...      6569.455000    1643.740000\n",
              "75%    NaN   20000.000000  ...     13000.000000    3212.387500\n",
              "max    NaN   40000.000000  ...     40000.000000   27884.800000\n",
              "\n",
              "[8 rows x 20 columns]"
            ]
          },
          "metadata": {
            "tags": []
          },
          "execution_count": 53
        }
      ]
    },
    {
      "cell_type": "markdown",
      "metadata": {
        "id": "3iDlBKLXn4QX",
        "colab_type": "text"
      },
      "source": [
        "# Part II Data cleaning and EDA\n",
        "### Exported df_clean to cvs file \"loan_clean.cvs\""
      ]
    },
    {
      "cell_type": "code",
      "metadata": {
        "id": "hq8VLzAya2x-",
        "colab_type": "code",
        "colab": {
          "resources": {
            "http://localhost:8080/nbextensions/google.colab/files.js": {
              "data": "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",
              "ok": true,
              "headers": [
                [
                  "content-type",
                  "application/javascript"
                ]
              ],
              "status": 200,
              "status_text": ""
            }
          },
          "base_uri": "https://localhost:8080/",
          "height": 72
        },
        "outputId": "8b3182c6-7791-4cbf-c93a-46a48d142fe1"
      },
      "source": [
        "# upload data (Data source: Kaggle)\n",
        "from google.colab import files\n",
        "uploaded = files.upload()"
      ],
      "execution_count": null,
      "outputs": [
        {
          "output_type": "display_data",
          "data": {
            "text/html": [
              "\n",
              "     <input type=\"file\" id=\"files-28b7a539-4657-4f4e-ad67-ded9c2bcf75d\" name=\"files[]\" multiple disabled\n",
              "        style=\"border:none\" />\n",
              "     <output id=\"result-28b7a539-4657-4f4e-ad67-ded9c2bcf75d\">\n",
              "      Upload widget is only available when the cell has been executed in the\n",
              "      current browser session. Please rerun this cell to enable.\n",
              "      </output>\n",
              "      <script src=\"/nbextensions/google.colab/files.js\"></script> "
            ],
            "text/plain": [
              "<IPython.core.display.HTML object>"
            ]
          },
          "metadata": {
            "tags": []
          }
        },
        {
          "output_type": "stream",
          "text": [
            "Saving loan_clean.csv to loan_clean.csv\n"
          ],
          "name": "stdout"
        }
      ]
    },
    {
      "cell_type": "code",
      "metadata": {
        "id": "UJf-ixMvdJuP",
        "colab_type": "code",
        "colab": {}
      },
      "source": [
        "import io\n",
        "df = pd.read_csv(io.BytesIO(uploaded['loan_clean.csv']))"
      ],
      "execution_count": 105,
      "outputs": []
    },
    {
      "cell_type": "markdown",
      "metadata": {
        "id": "4Es5EDd8fkwG",
        "colab_type": "text"
      },
      "source": [
        "# Data Cleaning"
      ]
    },
    {
      "cell_type": "code",
      "metadata": {
        "id": "6FQ07zz42F-l",
        "colab_type": "code",
        "colab": {}
      },
      "source": [
        "# Drop a few features for :\n",
        "\n",
        "del df['id'] # meanless feature\n",
        "del df['inq_last_6mths'] # most value is 0\n",
        "del df['pub_rec'] # more than 75% values is 0\n",
        "del df['out_prncp'] # all value 0\n",
        "del df['out_prncp_inv'] # all value 0"
      ],
      "execution_count": null,
      "outputs": []
    },
    {
      "cell_type": "code",
      "metadata": {
        "id": "NzaG8KYsgvHc",
        "colab_type": "code",
        "colab": {
          "base_uri": "https://localhost:8080/",
          "height": 297
        },
        "outputId": "48587433-45f3-4e6e-cef9-d9b071378d10"
      },
      "source": [
        "df.describe()"
      ],
      "execution_count": null,
      "outputs": [
        {
          "output_type": "execute_result",
          "data": {
            "text/html": [
              "<div>\n",
              "<style scoped>\n",
              "    .dataframe tbody tr th:only-of-type {\n",
              "        vertical-align: middle;\n",
              "    }\n",
              "\n",
              "    .dataframe tbody tr th {\n",
              "        vertical-align: top;\n",
              "    }\n",
              "\n",
              "    .dataframe thead th {\n",
              "        text-align: right;\n",
              "    }\n",
              "</style>\n",
              "<table border=\"1\" class=\"dataframe\">\n",
              "  <thead>\n",
              "    <tr style=\"text-align: right;\">\n",
              "      <th></th>\n",
              "      <th>loan_amnt</th>\n",
              "      <th>funded_amnt</th>\n",
              "      <th>funded_amnt_inv</th>\n",
              "      <th>int_rate</th>\n",
              "      <th>installment</th>\n",
              "      <th>annual_inc</th>\n",
              "      <th>dti</th>\n",
              "      <th>open_acc</th>\n",
              "      <th>revol_bal</th>\n",
              "      <th>revol_util</th>\n",
              "      <th>total_acc</th>\n",
              "      <th>total_pymnt</th>\n",
              "      <th>total_pymnt_inv</th>\n",
              "      <th>total_rec_prncp</th>\n",
              "      <th>total_rec_int</th>\n",
              "    </tr>\n",
              "  </thead>\n",
              "  <tbody>\n",
              "    <tr>\n",
              "      <th>count</th>\n",
              "      <td>520000.000000</td>\n",
              "      <td>520000.000000</td>\n",
              "      <td>520000.000000</td>\n",
              "      <td>520000.000000</td>\n",
              "      <td>520000.000000</td>\n",
              "      <td>5.200000e+05</td>\n",
              "      <td>519883.000000</td>\n",
              "      <td>520000.000000</td>\n",
              "      <td>5.200000e+05</td>\n",
              "      <td>519690.000000</td>\n",
              "      <td>520000.000000</td>\n",
              "      <td>520000.000000</td>\n",
              "      <td>520000.000000</td>\n",
              "      <td>520000.000000</td>\n",
              "      <td>520000.000000</td>\n",
              "    </tr>\n",
              "    <tr>\n",
              "      <th>mean</th>\n",
              "      <td>14843.567548</td>\n",
              "      <td>14835.311587</td>\n",
              "      <td>14810.954410</td>\n",
              "      <td>14.177889</td>\n",
              "      <td>448.191886</td>\n",
              "      <td>7.395996e+04</td>\n",
              "      <td>18.990014</td>\n",
              "      <td>11.718988</td>\n",
              "      <td>1.591853e+04</td>\n",
              "      <td>53.000990</td>\n",
              "      <td>24.929212</td>\n",
              "      <td>12337.672171</td>\n",
              "      <td>12317.166127</td>\n",
              "      <td>9248.838602</td>\n",
              "      <td>2499.253099</td>\n",
              "    </tr>\n",
              "    <tr>\n",
              "      <th>std</th>\n",
              "      <td>8749.542359</td>\n",
              "      <td>8745.513938</td>\n",
              "      <td>8748.356923</td>\n",
              "      <td>4.956628</td>\n",
              "      <td>261.688736</td>\n",
              "      <td>6.722599e+04</td>\n",
              "      <td>11.678638</td>\n",
              "      <td>5.533693</td>\n",
              "      <td>2.117054e+04</td>\n",
              "      <td>24.275161</td>\n",
              "      <td>12.044287</td>\n",
              "      <td>9661.024753</td>\n",
              "      <td>9657.256769</td>\n",
              "      <td>8340.504618</td>\n",
              "      <td>2647.194724</td>\n",
              "    </tr>\n",
              "    <tr>\n",
              "      <th>min</th>\n",
              "      <td>500.000000</td>\n",
              "      <td>500.000000</td>\n",
              "      <td>0.000000</td>\n",
              "      <td>5.310000</td>\n",
              "      <td>16.080000</td>\n",
              "      <td>0.000000e+00</td>\n",
              "      <td>0.000000</td>\n",
              "      <td>0.000000</td>\n",
              "      <td>0.000000e+00</td>\n",
              "      <td>0.000000</td>\n",
              "      <td>2.000000</td>\n",
              "      <td>0.000000</td>\n",
              "      <td>0.000000</td>\n",
              "      <td>0.000000</td>\n",
              "      <td>0.000000</td>\n",
              "    </tr>\n",
              "    <tr>\n",
              "      <th>25%</th>\n",
              "      <td>8000.000000</td>\n",
              "      <td>8000.000000</td>\n",
              "      <td>8000.000000</td>\n",
              "      <td>10.900000</td>\n",
              "      <td>259.690000</td>\n",
              "      <td>4.500000e+04</td>\n",
              "      <td>12.400000</td>\n",
              "      <td>8.000000</td>\n",
              "      <td>5.971000e+03</td>\n",
              "      <td>35.000000</td>\n",
              "      <td>16.000000</td>\n",
              "      <td>5218.089735</td>\n",
              "      <td>5200.667500</td>\n",
              "      <td>2875.170000</td>\n",
              "      <td>796.880000</td>\n",
              "    </tr>\n",
              "    <tr>\n",
              "      <th>50%</th>\n",
              "      <td>13000.000000</td>\n",
              "      <td>13000.000000</td>\n",
              "      <td>12925.000000</td>\n",
              "      <td>13.660000</td>\n",
              "      <td>385.740000</td>\n",
              "      <td>6.300000e+04</td>\n",
              "      <td>18.410000</td>\n",
              "      <td>11.000000</td>\n",
              "      <td>1.111750e+04</td>\n",
              "      <td>53.600000</td>\n",
              "      <td>23.000000</td>\n",
              "      <td>9746.450000</td>\n",
              "      <td>9724.495000</td>\n",
              "      <td>6569.455000</td>\n",
              "      <td>1643.740000</td>\n",
              "    </tr>\n",
              "    <tr>\n",
              "      <th>75%</th>\n",
              "      <td>20000.000000</td>\n",
              "      <td>20000.000000</td>\n",
              "      <td>20000.000000</td>\n",
              "      <td>17.140000</td>\n",
              "      <td>590.040000</td>\n",
              "      <td>8.900000e+04</td>\n",
              "      <td>24.940000</td>\n",
              "      <td>15.000000</td>\n",
              "      <td>1.950200e+04</td>\n",
              "      <td>71.700000</td>\n",
              "      <td>32.000000</td>\n",
              "      <td>16903.503309</td>\n",
              "      <td>16886.392500</td>\n",
              "      <td>13000.000000</td>\n",
              "      <td>3212.387500</td>\n",
              "    </tr>\n",
              "    <tr>\n",
              "      <th>max</th>\n",
              "      <td>40000.000000</td>\n",
              "      <td>40000.000000</td>\n",
              "      <td>40000.000000</td>\n",
              "      <td>30.990000</td>\n",
              "      <td>1717.630000</td>\n",
              "      <td>9.500000e+06</td>\n",
              "      <td>999.000000</td>\n",
              "      <td>86.000000</td>\n",
              "      <td>2.568995e+06</td>\n",
              "      <td>366.600000</td>\n",
              "      <td>176.000000</td>\n",
              "      <td>62884.797382</td>\n",
              "      <td>62862.510000</td>\n",
              "      <td>40000.000000</td>\n",
              "      <td>27884.800000</td>\n",
              "    </tr>\n",
              "  </tbody>\n",
              "</table>\n",
              "</div>"
            ],
            "text/plain": [
              "           loan_amnt    funded_amnt  ...  total_rec_prncp  total_rec_int\n",
              "count  520000.000000  520000.000000  ...    520000.000000  520000.000000\n",
              "mean    14843.567548   14835.311587  ...      9248.838602    2499.253099\n",
              "std      8749.542359    8745.513938  ...      8340.504618    2647.194724\n",
              "min       500.000000     500.000000  ...         0.000000       0.000000\n",
              "25%      8000.000000    8000.000000  ...      2875.170000     796.880000\n",
              "50%     13000.000000   13000.000000  ...      6569.455000    1643.740000\n",
              "75%     20000.000000   20000.000000  ...     13000.000000    3212.387500\n",
              "max     40000.000000   40000.000000  ...     40000.000000   27884.800000\n",
              "\n",
              "[8 rows x 15 columns]"
            ]
          },
          "metadata": {
            "tags": []
          },
          "execution_count": 5
        }
      ]
    },
    {
      "cell_type": "code",
      "metadata": {
        "id": "xiwdsj6Vfz04",
        "colab_type": "code",
        "colab": {}
      },
      "source": [
        "# loan amount commited by investor should be greater than 0\n",
        "df=df[df.funded_amnt_inv > 0]"
      ],
      "execution_count": null,
      "outputs": []
    },
    {
      "cell_type": "code",
      "metadata": {
        "id": "Mdal5wNZ2n2e",
        "colab_type": "code",
        "colab": {
          "base_uri": "https://localhost:8080/",
          "height": 309
        },
        "outputId": "a664ce8e-9af9-4cce-82d2-8ca25a3de8c9"
      },
      "source": [
        "df.head()"
      ],
      "execution_count": null,
      "outputs": [
        {
          "output_type": "execute_result",
          "data": {
            "text/html": [
              "<div>\n",
              "<style scoped>\n",
              "    .dataframe tbody tr th:only-of-type {\n",
              "        vertical-align: middle;\n",
              "    }\n",
              "\n",
              "    .dataframe tbody tr th {\n",
              "        vertical-align: top;\n",
              "    }\n",
              "\n",
              "    .dataframe thead th {\n",
              "        text-align: right;\n",
              "    }\n",
              "</style>\n",
              "<table border=\"1\" class=\"dataframe\">\n",
              "  <thead>\n",
              "    <tr style=\"text-align: right;\">\n",
              "      <th></th>\n",
              "      <th>loan_amnt</th>\n",
              "      <th>funded_amnt</th>\n",
              "      <th>funded_amnt_inv</th>\n",
              "      <th>term</th>\n",
              "      <th>int_rate</th>\n",
              "      <th>installment</th>\n",
              "      <th>grade</th>\n",
              "      <th>emp_length</th>\n",
              "      <th>home_ownership</th>\n",
              "      <th>annual_inc</th>\n",
              "      <th>verification_status</th>\n",
              "      <th>loan_status</th>\n",
              "      <th>purpose</th>\n",
              "      <th>addr_state</th>\n",
              "      <th>dti</th>\n",
              "      <th>earliest_cr_line</th>\n",
              "      <th>open_acc</th>\n",
              "      <th>revol_bal</th>\n",
              "      <th>revol_util</th>\n",
              "      <th>total_acc</th>\n",
              "      <th>total_pymnt</th>\n",
              "      <th>total_pymnt_inv</th>\n",
              "      <th>total_rec_prncp</th>\n",
              "      <th>total_rec_int</th>\n",
              "    </tr>\n",
              "  </thead>\n",
              "  <tbody>\n",
              "    <tr>\n",
              "      <th>0</th>\n",
              "      <td>6350</td>\n",
              "      <td>6350</td>\n",
              "      <td>6350.0</td>\n",
              "      <td>36 months</td>\n",
              "      <td>14.99</td>\n",
              "      <td>220.10</td>\n",
              "      <td>C</td>\n",
              "      <td>4 years</td>\n",
              "      <td>RENT</td>\n",
              "      <td>110000.0</td>\n",
              "      <td>Source Verified</td>\n",
              "      <td>Fully Paid</td>\n",
              "      <td>debt_consolidation</td>\n",
              "      <td>NY</td>\n",
              "      <td>11.98</td>\n",
              "      <td>Feb-2008</td>\n",
              "      <td>6.0</td>\n",
              "      <td>2375</td>\n",
              "      <td>52.8</td>\n",
              "      <td>14.0</td>\n",
              "      <td>7941.029680</td>\n",
              "      <td>7941.03</td>\n",
              "      <td>6350.00</td>\n",
              "      <td>1576.03</td>\n",
              "    </tr>\n",
              "    <tr>\n",
              "      <th>1</th>\n",
              "      <td>15000</td>\n",
              "      <td>15000</td>\n",
              "      <td>15000.0</td>\n",
              "      <td>60 months</td>\n",
              "      <td>15.31</td>\n",
              "      <td>359.30</td>\n",
              "      <td>C</td>\n",
              "      <td>5 years</td>\n",
              "      <td>MORTGAGE</td>\n",
              "      <td>63280.0</td>\n",
              "      <td>Source Verified</td>\n",
              "      <td>Fully Paid</td>\n",
              "      <td>home_improvement</td>\n",
              "      <td>TX</td>\n",
              "      <td>9.07</td>\n",
              "      <td>Aug-2007</td>\n",
              "      <td>5.0</td>\n",
              "      <td>1136</td>\n",
              "      <td>23.2</td>\n",
              "      <td>7.0</td>\n",
              "      <td>17653.570004</td>\n",
              "      <td>17653.57</td>\n",
              "      <td>15000.00</td>\n",
              "      <td>2653.57</td>\n",
              "    </tr>\n",
              "    <tr>\n",
              "      <th>2</th>\n",
              "      <td>8000</td>\n",
              "      <td>8000</td>\n",
              "      <td>8000.0</td>\n",
              "      <td>36 months</td>\n",
              "      <td>7.26</td>\n",
              "      <td>247.97</td>\n",
              "      <td>A</td>\n",
              "      <td>10+ years</td>\n",
              "      <td>MORTGAGE</td>\n",
              "      <td>56000.0</td>\n",
              "      <td>Source Verified</td>\n",
              "      <td>Charged Off</td>\n",
              "      <td>debt_consolidation</td>\n",
              "      <td>AL</td>\n",
              "      <td>23.24</td>\n",
              "      <td>Apr-2002</td>\n",
              "      <td>14.0</td>\n",
              "      <td>4025</td>\n",
              "      <td>10.2</td>\n",
              "      <td>27.0</td>\n",
              "      <td>1727.720000</td>\n",
              "      <td>1727.72</td>\n",
              "      <td>1422.60</td>\n",
              "      <td>305.12</td>\n",
              "    </tr>\n",
              "    <tr>\n",
              "      <th>3</th>\n",
              "      <td>10000</td>\n",
              "      <td>10000</td>\n",
              "      <td>10000.0</td>\n",
              "      <td>60 months</td>\n",
              "      <td>14.47</td>\n",
              "      <td>235.13</td>\n",
              "      <td>C</td>\n",
              "      <td>5 years</td>\n",
              "      <td>OWN</td>\n",
              "      <td>25000.0</td>\n",
              "      <td>Source Verified</td>\n",
              "      <td>Charged Off</td>\n",
              "      <td>debt_consolidation</td>\n",
              "      <td>TX</td>\n",
              "      <td>22.85</td>\n",
              "      <td>Aug-1983</td>\n",
              "      <td>10.0</td>\n",
              "      <td>8296</td>\n",
              "      <td>12.4</td>\n",
              "      <td>24.0</td>\n",
              "      <td>9890.460000</td>\n",
              "      <td>9890.46</td>\n",
              "      <td>6213.89</td>\n",
              "      <td>3661.57</td>\n",
              "    </tr>\n",
              "    <tr>\n",
              "      <th>4</th>\n",
              "      <td>23000</td>\n",
              "      <td>23000</td>\n",
              "      <td>23000.0</td>\n",
              "      <td>60 months</td>\n",
              "      <td>19.19</td>\n",
              "      <td>599.04</td>\n",
              "      <td>E</td>\n",
              "      <td>2 years</td>\n",
              "      <td>RENT</td>\n",
              "      <td>95000.0</td>\n",
              "      <td>Source Verified</td>\n",
              "      <td>Charged Off</td>\n",
              "      <td>debt_consolidation</td>\n",
              "      <td>VA</td>\n",
              "      <td>19.67</td>\n",
              "      <td>Dec-2002</td>\n",
              "      <td>16.0</td>\n",
              "      <td>9118</td>\n",
              "      <td>63.8</td>\n",
              "      <td>36.0</td>\n",
              "      <td>16678.800000</td>\n",
              "      <td>16678.80</td>\n",
              "      <td>6399.33</td>\n",
              "      <td>7953.11</td>\n",
              "    </tr>\n",
              "  </tbody>\n",
              "</table>\n",
              "</div>"
            ],
            "text/plain": [
              "   loan_amnt  funded_amnt  ...  total_rec_prncp total_rec_int\n",
              "0       6350         6350  ...          6350.00       1576.03\n",
              "1      15000        15000  ...         15000.00       2653.57\n",
              "2       8000         8000  ...          1422.60        305.12\n",
              "3      10000        10000  ...          6213.89       3661.57\n",
              "4      23000        23000  ...          6399.33       7953.11\n",
              "\n",
              "[5 rows x 24 columns]"
            ]
          },
          "metadata": {
            "tags": []
          },
          "execution_count": 7
        }
      ]
    },
    {
      "cell_type": "code",
      "metadata": {
        "id": "iHB16vbXLjLm",
        "colab_type": "code",
        "colab": {}
      },
      "source": [
        "# use a smaller dataset for training model\n",
        "sample_size = 25000\n",
        "\n",
        "data_small = df.groupby('loan_status').apply(lambda x: x.sample(sample_size))"
      ],
      "execution_count": null,
      "outputs": []
    },
    {
      "cell_type": "code",
      "metadata": {
        "id": "Ty4T0uiSXHCn",
        "colab_type": "code",
        "colab": {}
      },
      "source": [
        "data_small.to_csv('loan_small.csv',index=False)\n",
        "files.download('loan_small.csv')"
      ],
      "execution_count": null,
      "outputs": []
    },
    {
      "cell_type": "markdown",
      "metadata": {
        "id": "sfLSKf1cdfkP",
        "colab_type": "text"
      },
      "source": [
        "##EDA of Data_Small"
      ]
    },
    {
      "cell_type": "code",
      "metadata": {
        "id": "ErkHkXoSZ5e_",
        "colab_type": "code",
        "colab": {}
      },
      "source": [
        "#Using data_small \n",
        "#This part orignally used dataset \"loan_clean\" which has 520,000 records. \n",
        "#It was extremely slow for model training therefore I sampled a even smaller dataset called \"loan_small\" (uploaded to Github)\n",
        "# The dataframe is called \"data_small\" \n",
        "url = 'https://raw.githubusercontent.com/QAppleData/FinalProject/master/loan_small.csv'\n",
        "data_small = pd.read_csv(url)"
      ],
      "execution_count": 3,
      "outputs": []
    },
    {
      "cell_type": "code",
      "metadata": {
        "id": "4RsChQhyeqoF",
        "colab_type": "code",
        "colab": {
          "base_uri": "https://localhost:8080/",
          "height": 733
        },
        "outputId": "23dee2ce-3c81-4dfc-866f-2298c2de5ab1"
      },
      "source": [
        "#correlation matrix to investigate numerical features/ HeatMap\n",
        "import seaborn as sns\n",
        "import matplotlib.pyplot as plt\n",
        "sns.set()\n",
        "\n",
        "corrmat = data_small.corr()\n",
        "f, ax = plt.subplots(figsize=(12, 10))\n",
        "sns.heatmap(corrmat,vmin=-1, vmax=.8, \n",
        "            cmap=sns.diverging_palette(20, 220, n=200),square=True);"
      ],
      "execution_count": 4,
      "outputs": [
        {
          "output_type": "stream",
          "text": [
            "/usr/local/lib/python3.6/dist-packages/statsmodels/tools/_testing.py:19: FutureWarning: pandas.util.testing is deprecated. Use the functions in the public API at pandas.testing instead.\n",
            "  import pandas.util.testing as tm\n"
          ],
          "name": "stderr"
        },
        {
          "output_type": "display_data",
          "data": {
            "image/png": "[encoded data removed]",
            "text/plain": [
              "<Figure size 864x720 with 2 Axes>"
            ]
          },
          "metadata": {
            "tags": []
          }
        }
      ]
    },
    {
      "cell_type": "markdown",
      "metadata": {
        "id": "TM-1I3b0hbX9",
        "colab_type": "text"
      },
      "source": [
        "## Investigate Categorical Features"
      ]
    },
    {
      "cell_type": "code",
      "metadata": {
        "id": "YYPTxPvAhWQ0",
        "colab_type": "code",
        "colab": {
          "base_uri": "https://localhost:8080/",
          "height": 448
        },
        "outputId": "625000b7-4ec6-4f00-835d-b8819732e8d6"
      },
      "source": [
        "# For what reason people are borrowing money?\n",
        "\n",
        "plt.figure(figsize=(12, 7))\n",
        "  \n",
        "data_small[\"purpose\"].value_counts().plot(kind='barh')"
      ],
      "execution_count": 5,
      "outputs": [
        {
          "output_type": "execute_result",
          "data": {
            "text/plain": [
              "<matplotlib.axes._subplots.AxesSubplot at 0x7fed254e32b0>"
            ]
          },
          "metadata": {
            "tags": []
          },
          "execution_count": 5
        },
        {
          "output_type": "display_data",
          "data": {
            "image/png": "[encoded data removed]",
            "text/plain": [
              "<Figure size 864x504 with 1 Axes>"
            ]
          },
          "metadata": {
            "tags": []
          }
        }
      ]
    },
    {
      "cell_type": "code",
      "metadata": {
        "id": "MCP-EGdBh7YW",
        "colab_type": "code",
        "colab": {}
      },
      "source": [
        "# People from where are borrowing money?\n",
        "df_location = data_small.groupby(\"addr_state\",).sum().reset_index()\n",
        "df_location = df_location.filter([\"addr_state\", \"loan_amnt\"], axis = 1)"
      ],
      "execution_count": 6,
      "outputs": []
    },
    {
      "cell_type": "code",
      "metadata": {
        "id": "XEbzI0miiKsp",
        "colab_type": "code",
        "colab": {
          "base_uri": "https://localhost:8080/",
          "height": 542
        },
        "outputId": "855b81d6-6cf4-41fe-ceae-1f6c780b849a"
      },
      "source": [
        "import plotly.graph_objects as go\n",
        "\n",
        "fig = go.Figure(data=go.Choropleth(\n",
        "    locations=df_location['addr_state'], # Spatial coordinates\n",
        "    z = df_location['loan_amnt'].astype(float), # Data to be color-coded\n",
        "    locationmode = 'USA-states', # set of locations match entries in `locations`\n",
        "    colorscale = 'Reds',\n",
        "    colorbar_title = \"Millions USD\",\n",
        "))\n",
        "\n",
        "fig.update_layout(\n",
        "    title_text = 'Total amount issued by State',\n",
        "    geo_scope='usa', # limited map scope to USA\n",
        ")\n",
        "\n",
        "fig.show()"
      ],
      "execution_count": 7,
      "outputs": [
        {
          "output_type": "display_data",
          "data": {
            "text/html": [
              "<html>\n",
              "<head><meta charset=\"utf-8\" /></head>\n",
              "<body>\n",
              "    <div>\n",
              "            <script src=\"https://cdnjs.cloudflare.com/ajax/libs/mathjax/2.7.5/MathJax.js?config=TeX-AMS-MML_SVG\"></script><script type=\"text/javascript\">if (window.MathJax) {MathJax.Hub.Config({SVG: {font: \"STIX-Web\"}});}</script>\n",
              "                <script type=\"text/javascript\">window.PlotlyConfig = {MathJaxConfig: 'local'};</script>\n",
              "        <script src=\"https://cdn.plot.ly/plotly-latest.min.js\"></script>    \n",
              "            <div id=\"d276bed8-864b-4bc1-b399-dfb4f99774ac\" class=\"plotly-graph-div\" style=\"height:525px; width:100%;\"></div>\n",
              "            <script type=\"text/javascript\">\n",
              "                \n",
              "                    window.PLOTLYENV=window.PLOTLYENV || {};\n",
              "                    \n",
              "                if (document.getElementById(\"d276bed8-864b-4bc1-b399-dfb4f99774ac\")) {\n",
              "                    Plotly.newPlot(\n",
              "                        'd276bed8-864b-4bc1-b399-dfb4f99774ac',\n",
              "                        [{\"colorbar\": {\"title\": {\"text\": \"Millions USD\"}}, \"colorscale\": [[0.0, \"rgb(255,245,240)\"], [0.125, \"rgb(254,224,210)\"], [0.25, \"rgb(252,187,161)\"], [0.375, \"rgb(252,146,114)\"], [0.5, \"rgb(251,106,74)\"], [0.625, \"rgb(239,59,44)\"], [0.75, \"rgb(203,24,29)\"], [0.875, \"rgb(165,15,21)\"], [1.0, \"rgb(103,0,13)\"]], \"locationmode\": \"USA-states\", \"locations\": [\"AK\", \"AL\", \"AR\", \"AZ\", \"CA\", \"CO\", \"CT\", \"DC\", \"DE\", \"FL\", \"GA\", \"HI\", \"ID\", \"IL\", \"IN\", \"KS\", \"KY\", \"LA\", \"MA\", \"MD\", \"ME\", \"MI\", \"MN\", \"MO\", \"MS\", \"MT\", \"NC\", \"ND\", \"NE\", \"NH\", \"NJ\", \"NM\", \"NV\", \"NY\", \"OH\", \"OK\", \"OR\", \"PA\", \"RI\", \"SC\", \"SD\", \"TN\", \"TX\", \"UT\", \"VA\", \"VT\", \"WA\", \"WI\", \"WV\", \"WY\"], \"type\": \"choropleth\", \"z\": [1919850.0, 9631825.0, 5407175.0, 17019050.0, 110322275.0, 14849325.0, 10607525.0, 1927000.0, 2071425.0, 51596175.0, 22307100.0, 3919600.0, 544125.0, 28330525.0, 12244250.0, 6186700.0, 7174150.0, 9073225.0, 18312075.0, 19926425.0, 1034375.0, 18158275.0, 12388950.0, 11762475.0, 3695550.0, 1837250.0, 20842825.0, 931800.0, 1804625.0, 2937125.0, 28363800.0, 3975275.0, 10557500.0, 62629900.0, 23444225.0, 6995700.0, 7066375.0, 25621525.0, 3324825.0, 8001675.0, 1632775.0, 11846925.0, 63812850.0, 4858275.0, 20047800.0, 1272650.0, 15570450.0, 9490625.0, 2539950.0, 1698725.0]}],\n",
              "                        {\"geo\": {\"scope\": \"usa\"}, \"template\": {\"data\": {\"bar\": [{\"error_x\": {\"color\": \"#2a3f5f\"}, \"error_y\": {\"color\": \"#2a3f5f\"}, \"marker\": {\"line\": {\"color\": \"#E5ECF6\", \"width\": 0.5}}, \"type\": \"bar\"}], \"barpolar\": [{\"marker\": {\"line\": {\"color\": \"#E5ECF6\", \"width\": 0.5}}, \"type\": \"barpolar\"}], \"carpet\": [{\"aaxis\": {\"endlinecolor\": \"#2a3f5f\", \"gridcolor\": \"white\", \"linecolor\": \"white\", \"minorgridcolor\": \"white\", \"startlinecolor\": \"#2a3f5f\"}, \"baxis\": {\"endlinecolor\": \"#2a3f5f\", \"gridcolor\": \"white\", \"linecolor\": \"white\", \"minorgridcolor\": \"white\", \"startlinecolor\": \"#2a3f5f\"}, \"type\": \"carpet\"}], \"choropleth\": [{\"colorbar\": {\"outlinewidth\": 0, \"ticks\": \"\"}, \"type\": \"choropleth\"}], \"contour\": [{\"colorbar\": {\"outlinewidth\": 0, \"ticks\": \"\"}, \"colorscale\": [[0.0, \"#0d0887\"], [0.1111111111111111, \"#46039f\"], [0.2222222222222222, \"#7201a8\"], [0.3333333333333333, \"#9c179e\"], [0.4444444444444444, \"#bd3786\"], [0.5555555555555556, \"#d8576b\"], [0.6666666666666666, \"#ed7953\"], [0.7777777777777778, \"#fb9f3a\"], [0.8888888888888888, \"#fdca26\"], [1.0, \"#f0f921\"]], \"type\": \"contour\"}], \"contourcarpet\": [{\"colorbar\": {\"outlinewidth\": 0, \"ticks\": \"\"}, \"type\": \"contourcarpet\"}], \"heatmap\": [{\"colorbar\": {\"outlinewidth\": 0, \"ticks\": \"\"}, \"colorscale\": [[0.0, \"#0d0887\"], [0.1111111111111111, \"#46039f\"], [0.2222222222222222, \"#7201a8\"], [0.3333333333333333, \"#9c179e\"], [0.4444444444444444, \"#bd3786\"], [0.5555555555555556, \"#d8576b\"], [0.6666666666666666, \"#ed7953\"], [0.7777777777777778, \"#fb9f3a\"], [0.8888888888888888, \"#fdca26\"], [1.0, \"#f0f921\"]], \"type\": \"heatmap\"}], \"heatmapgl\": [{\"colorbar\": {\"outlinewidth\": 0, \"ticks\": \"\"}, \"colorscale\": [[0.0, \"#0d0887\"], [0.1111111111111111, \"#46039f\"], [0.2222222222222222, \"#7201a8\"], [0.3333333333333333, \"#9c179e\"], [0.4444444444444444, \"#bd3786\"], [0.5555555555555556, \"#d8576b\"], [0.6666666666666666, \"#ed7953\"], [0.7777777777777778, \"#fb9f3a\"], [0.8888888888888888, \"#fdca26\"], [1.0, \"#f0f921\"]], \"type\": \"heatmapgl\"}], \"histogram\": [{\"marker\": {\"colorbar\": {\"outlinewidth\": 0, \"ticks\": \"\"}}, \"type\": \"histogram\"}], \"histogram2d\": [{\"colorbar\": {\"outlinewidth\": 0, \"ticks\": \"\"}, \"colorscale\": [[0.0, \"#0d0887\"], [0.1111111111111111, \"#46039f\"], [0.2222222222222222, \"#7201a8\"], [0.3333333333333333, \"#9c179e\"], [0.4444444444444444, \"#bd3786\"], [0.5555555555555556, \"#d8576b\"], [0.6666666666666666, \"#ed7953\"], [0.7777777777777778, \"#fb9f3a\"], [0.8888888888888888, \"#fdca26\"], [1.0, \"#f0f921\"]], \"type\": \"histogram2d\"}], \"histogram2dcontour\": [{\"colorbar\": {\"outlinewidth\": 0, \"ticks\": \"\"}, \"colorscale\": [[0.0, \"#0d0887\"], [0.1111111111111111, \"#46039f\"], [0.2222222222222222, \"#7201a8\"], [0.3333333333333333, \"#9c179e\"], [0.4444444444444444, \"#bd3786\"], [0.5555555555555556, \"#d8576b\"], [0.6666666666666666, \"#ed7953\"], [0.7777777777777778, \"#fb9f3a\"], [0.8888888888888888, \"#fdca26\"], [1.0, \"#f0f921\"]], \"type\": \"histogram2dcontour\"}], \"mesh3d\": [{\"colorbar\": {\"outlinewidth\": 0, \"ticks\": \"\"}, \"type\": \"mesh3d\"}], \"parcoords\": [{\"line\": {\"colorbar\": {\"outlinewidth\": 0, \"ticks\": \"\"}}, \"type\": \"parcoords\"}], \"pie\": [{\"automargin\": true, \"type\": \"pie\"}], \"scatter\": [{\"marker\": {\"colorbar\": {\"outlinewidth\": 0, \"ticks\": \"\"}}, \"type\": \"scatter\"}], \"scatter3d\": [{\"line\": {\"colorbar\": {\"outlinewidth\": 0, \"ticks\": \"\"}}, \"marker\": {\"colorbar\": {\"outlinewidth\": 0, \"ticks\": \"\"}}, \"type\": \"scatter3d\"}], \"scattercarpet\": [{\"marker\": {\"colorbar\": {\"outlinewidth\": 0, \"ticks\": \"\"}}, \"type\": \"scattercarpet\"}], \"scattergeo\": [{\"marker\": {\"colorbar\": {\"outlinewidth\": 0, \"ticks\": \"\"}}, \"type\": \"scattergeo\"}], \"scattergl\": [{\"marker\": {\"colorbar\": {\"outlinewidth\": 0, \"ticks\": \"\"}}, \"type\": \"scattergl\"}], \"scattermapbox\": [{\"marker\": {\"colorbar\": {\"outlinewidth\": 0, \"ticks\": \"\"}}, \"type\": \"scattermapbox\"}], \"scatterpolar\": [{\"marker\": {\"colorbar\": {\"outlinewidth\": 0, \"ticks\": \"\"}}, \"type\": \"scatterpolar\"}], \"scatterpolargl\": [{\"marker\": {\"colorbar\": {\"outlinewidth\": 0, \"ticks\": \"\"}}, \"type\": \"scatterpolargl\"}], \"scatterternary\": [{\"marker\": {\"colorbar\": {\"outlinewidth\": 0, \"ticks\": \"\"}}, \"type\": \"scatterternary\"}], \"surface\": [{\"colorbar\": {\"outlinewidth\": 0, \"ticks\": \"\"}, \"colorscale\": [[0.0, \"#0d0887\"], [0.1111111111111111, \"#46039f\"], [0.2222222222222222, \"#7201a8\"], [0.3333333333333333, \"#9c179e\"], [0.4444444444444444, \"#bd3786\"], [0.5555555555555556, \"#d8576b\"], [0.6666666666666666, \"#ed7953\"], [0.7777777777777778, \"#fb9f3a\"], [0.8888888888888888, \"#fdca26\"], [1.0, \"#f0f921\"]], \"type\": \"surface\"}], \"table\": [{\"cells\": {\"fill\": {\"color\": \"#EBF0F8\"}, \"line\": {\"color\": \"white\"}}, \"header\": {\"fill\": {\"color\": \"#C8D4E3\"}, \"line\": {\"color\": \"white\"}}, \"type\": \"table\"}]}, \"layout\": {\"annotationdefaults\": {\"arrowcolor\": \"#2a3f5f\", \"arrowhead\": 0, \"arrowwidth\": 1}, \"coloraxis\": {\"colorbar\": {\"outlinewidth\": 0, \"ticks\": \"\"}}, \"colorscale\": {\"diverging\": [[0, \"#8e0152\"], [0.1, \"#c51b7d\"], [0.2, \"#de77ae\"], [0.3, \"#f1b6da\"], [0.4, \"#fde0ef\"], [0.5, \"#f7f7f7\"], [0.6, \"#e6f5d0\"], [0.7, \"#b8e186\"], [0.8, \"#7fbc41\"], [0.9, \"#4d9221\"], [1, \"#276419\"]], \"sequential\": [[0.0, \"#0d0887\"], [0.1111111111111111, \"#46039f\"], [0.2222222222222222, \"#7201a8\"], [0.3333333333333333, \"#9c179e\"], [0.4444444444444444, \"#bd3786\"], [0.5555555555555556, \"#d8576b\"], [0.6666666666666666, \"#ed7953\"], [0.7777777777777778, \"#fb9f3a\"], [0.8888888888888888, \"#fdca26\"], [1.0, \"#f0f921\"]], \"sequentialminus\": [[0.0, \"#0d0887\"], [0.1111111111111111, \"#46039f\"], [0.2222222222222222, \"#7201a8\"], [0.3333333333333333, \"#9c179e\"], [0.4444444444444444, \"#bd3786\"], [0.5555555555555556, \"#d8576b\"], [0.6666666666666666, \"#ed7953\"], [0.7777777777777778, \"#fb9f3a\"], [0.8888888888888888, \"#fdca26\"], [1.0, \"#f0f921\"]]}, \"colorway\": [\"#636efa\", \"#EF553B\", \"#00cc96\", \"#ab63fa\", \"#FFA15A\", \"#19d3f3\", \"#FF6692\", \"#B6E880\", \"#FF97FF\", \"#FECB52\"], \"font\": {\"color\": \"#2a3f5f\"}, \"geo\": {\"bgcolor\": \"white\", \"lakecolor\": \"white\", \"landcolor\": \"#E5ECF6\", \"showlakes\": true, \"showland\": true, \"subunitcolor\": \"white\"}, \"hoverlabel\": {\"align\": \"left\"}, \"hovermode\": \"closest\", \"mapbox\": {\"style\": \"light\"}, \"paper_bgcolor\": \"white\", \"plot_bgcolor\": \"#E5ECF6\", \"polar\": {\"angularaxis\": {\"gridcolor\": \"white\", \"linecolor\": \"white\", \"ticks\": \"\"}, \"bgcolor\": \"#E5ECF6\", \"radialaxis\": {\"gridcolor\": \"white\", \"linecolor\": \"white\", \"ticks\": \"\"}}, \"scene\": {\"xaxis\": {\"backgroundcolor\": \"#E5ECF6\", \"gridcolor\": \"white\", \"gridwidth\": 2, \"linecolor\": \"white\", \"showbackground\": true, \"ticks\": \"\", \"zerolinecolor\": \"white\"}, \"yaxis\": {\"backgroundcolor\": \"#E5ECF6\", \"gridcolor\": \"white\", \"gridwidth\": 2, \"linecolor\": \"white\", \"showbackground\": true, \"ticks\": \"\", \"zerolinecolor\": \"white\"}, \"zaxis\": {\"backgroundcolor\": \"#E5ECF6\", \"gridcolor\": \"white\", \"gridwidth\": 2, \"linecolor\": \"white\", \"showbackground\": true, \"ticks\": \"\", \"zerolinecolor\": \"white\"}}, \"shapedefaults\": {\"line\": {\"color\": \"#2a3f5f\"}}, \"ternary\": {\"aaxis\": {\"gridcolor\": \"white\", \"linecolor\": \"white\", \"ticks\": \"\"}, \"baxis\": {\"gridcolor\": \"white\", \"linecolor\": \"white\", \"ticks\": \"\"}, \"bgcolor\": \"#E5ECF6\", \"caxis\": {\"gridcolor\": \"white\", \"linecolor\": \"white\", \"ticks\": \"\"}}, \"title\": {\"x\": 0.05}, \"xaxis\": {\"automargin\": true, \"gridcolor\": \"white\", \"linecolor\": \"white\", \"ticks\": \"\", \"title\": {\"standoff\": 15}, \"zerolinecolor\": \"white\", \"zerolinewidth\": 2}, \"yaxis\": {\"automargin\": true, \"gridcolor\": \"white\", \"linecolor\": \"white\", \"ticks\": \"\", \"title\": {\"standoff\": 15}, \"zerolinecolor\": \"white\", \"zerolinewidth\": 2}}}, \"title\": {\"text\": \"Total amount issued by State\"}},\n",
              "                        {\"responsive\": true}\n",
              "                    ).then(function(){\n",
              "                            \n",
              "var gd = document.getElementById('d276bed8-864b-4bc1-b399-dfb4f99774ac');\n",
              "var x = new MutationObserver(function (mutations, observer) {{\n",
              "        var display = window.getComputedStyle(gd).display;\n",
              "        if (!display || display === 'none') {{\n",
              "            console.log([gd, 'removed!']);\n",
              "            Plotly.purge(gd);\n",
              "            observer.disconnect();\n",
              "        }}\n",
              "}});\n",
              "\n",
              "// Listen for the removal of the full notebook cells\n",
              "var notebookContainer = gd.closest('#notebook-container');\n",
              "if (notebookContainer) {{\n",
              "    x.observe(notebookContainer, {childList: true});\n",
              "}}\n",
              "\n",
              "// Listen for the clearing of the current output cell\n",
              "var outputEl = gd.closest('.output');\n",
              "if (outputEl) {{\n",
              "    x.observe(outputEl, {childList: true});\n",
              "}}\n",
              "\n",
              "                        })\n",
              "                };\n",
              "                \n",
              "            </script>\n",
              "        </div>\n",
              "</body>\n",
              "</html>"
            ]
          },
          "metadata": {
            "tags": []
          }
        }
      ]
    },
    {
      "cell_type": "code",
      "metadata": {
        "id": "LQT2k8XBiZ_H",
        "colab_type": "code",
        "colab": {
          "base_uri": "https://localhost:8080/",
          "height": 465
        },
        "outputId": "247c8cda-c311-4c62-be3e-6140f384b8f9"
      },
      "source": [
        "# Grade of loan\n",
        "plt.figure(figsize=(10, 7))\n",
        "  \n",
        "plt.subplot(1, 2, 1)\n",
        "sns.countplot(x=\"grade\", data= data_small, order = data_small['grade'].value_counts().index)"
      ],
      "execution_count": 8,
      "outputs": [
        {
          "output_type": "execute_result",
          "data": {
            "text/plain": [
              "<matplotlib.axes._subplots.AxesSubplot at 0x7fed24f8f940>"
            ]
          },
          "metadata": {
            "tags": []
          },
          "execution_count": 8
        },
        {
          "output_type": "display_data",
          "data": {
            "image/png": "[encoded data removed]",
            "text/plain": [
              "<Figure size 720x504 with 1 Axes>"
            ]
          },
          "metadata": {
            "tags": []
          }
        }
      ]
    },
    {
      "cell_type": "code",
      "metadata": {
        "id": "hjZ5pogRYD6s",
        "colab_type": "code",
        "colab": {
          "base_uri": "https://localhost:8080/",
          "height": 170
        },
        "outputId": "ec2e9512-2e7c-4bb4-a769-6a4649bb1375"
      },
      "source": [
        "list(data_small.select_dtypes(object))"
      ],
      "execution_count": 9,
      "outputs": [
        {
          "output_type": "execute_result",
          "data": {
            "text/plain": [
              "['term',\n",
              " 'grade',\n",
              " 'emp_length',\n",
              " 'home_ownership',\n",
              " 'verification_status',\n",
              " 'loan_status',\n",
              " 'purpose',\n",
              " 'addr_state',\n",
              " 'earliest_cr_line']"
            ]
          },
          "metadata": {
            "tags": []
          },
          "execution_count": 9
        }
      ]
    },
    {
      "cell_type": "code",
      "metadata": {
        "id": "WRkHrWO7iWbU",
        "colab_type": "code",
        "colab": {
          "base_uri": "https://localhost:8080/",
          "height": 901
        },
        "outputId": "94e54f43-20c8-43b8-a01a-3b44faba00f6"
      },
      "source": [
        "# conver term into numerical\n",
        "col_cat = ['term',\n",
        " 'grade',\n",
        " 'emp_length',\n",
        " 'home_ownership',\n",
        " 'verification_status',\n",
        " 'loan_status',\n",
        " 'purpose']\n",
        "for feature in col_cat:\n",
        "  print(data_small[feature].value_counts().sort_values(ascending=False))"
      ],
      "execution_count": 10,
      "outputs": [
        {
          "output_type": "stream",
          "text": [
            " 36 months    35195\n",
            " 60 months    14805\n",
            "Name: term, dtype: int64\n",
            "C    14860\n",
            "B    12773\n",
            "D     9083\n",
            "A     6271\n",
            "E     4773\n",
            "F     1690\n",
            "G      550\n",
            "Name: grade, dtype: int64\n",
            "10+ years    16048\n",
            "2 years       4484\n",
            "< 1 year      4164\n",
            "3 years       3881\n",
            "1 year        3341\n",
            "5 years       3127\n",
            "4 years       2940\n",
            "8 years       2277\n",
            "7 years       2257\n",
            "6 years       2243\n",
            "9 years       1936\n",
            "Name: emp_length, dtype: int64\n",
            "MORTGAGE    23413\n",
            "RENT        21222\n",
            "OWN          5350\n",
            "ANY             8\n",
            "OTHER           6\n",
            "NONE            1\n",
            "Name: home_ownership, dtype: int64\n",
            "Source Verified    19880\n",
            "Verified           16634\n",
            "Not Verified       13486\n",
            "Name: verification_status, dtype: int64\n",
            "Charged Off    25000\n",
            "Fully Paid     25000\n",
            "Name: loan_status, dtype: int64\n",
            "debt_consolidation    29716\n",
            "credit_card           10388\n",
            "home_improvement       3019\n",
            "other                  2981\n",
            "major_purchase         1041\n",
            "small_business          667\n",
            "medical                 587\n",
            "car                     482\n",
            "moving                  397\n",
            "vacation                327\n",
            "house                   272\n",
            "wedding                  65\n",
            "renewable_energy         44\n",
            "educational              14\n",
            "Name: purpose, dtype: int64\n"
          ],
          "name": "stdout"
        }
      ]
    },
    {
      "cell_type": "code",
      "metadata": {
        "id": "DfrDFq98d11t",
        "colab_type": "code",
        "colab": {}
      },
      "source": [
        "#convert emp_length into numerical (number of years, 10+ year becomes 10, less than a year becomes 0)\n",
        "\n",
        "data_small['emp_length'] = data_small['emp_length'].replace(['< 1 year','10+ years'],['0 year','10 year'])\n",
        "data_small['emp_length']= data_small['emp_length'].str[0:2]\n",
        "data_small['emp_length'] = data_small['emp_length'].astype(float)"
      ],
      "execution_count": 11,
      "outputs": []
    },
    {
      "cell_type": "code",
      "metadata": {
        "id": "RoYFCtjbjRml",
        "colab_type": "code",
        "colab": {}
      },
      "source": [
        "# Deal with HomeOwnership (convert to 1 to 5)\n",
        "Home_mapper = {'OWN':1,'MORTGAGE':2,'RENT':3,'ANY':4,'OTHER':4,'NONE':5}\n",
        "data_small['home_ownership'] = data_small['home_ownership'].map(Home_mapper)"
      ],
      "execution_count": 12,
      "outputs": []
    },
    {
      "cell_type": "code",
      "metadata": {
        "id": "U5Q7bk_uoO_R",
        "colab_type": "code",
        "colab": {}
      },
      "source": [
        "# Deal with \"earliest_cr_line\" The month the borrower’s earliest reported credit line was opened\n",
        "# Convert the Month-Year into how many months ago credit line opened\n",
        "\n",
        "data_small['cr_month'] = data_small['earliest_cr_line'].str[0:3]#get month\n",
        "\n",
        "Mon_mapper = {'Jan':1,'Feb':2,'Mar':3,'Apr':4,'May':5,'Jun':6,'Jul':7,'Aug':8,'Sep':9,'Oct':10,'Nov':11,'Dec':12}#dict of month name to number\n",
        "\n",
        "data_small['cr_month'] = data_small['cr_month'].map(Mon_mapper)#convert month\n",
        "\n",
        "data_small['cr_year'] = data_small['earliest_cr_line'].str[4:8]#get year\n",
        "\n",
        "data_small['cr_year'] = data_small['cr_year'].astype(int)# convert year\n",
        "\n",
        "data_small['earliest_cr_line_months']= (2016-data_small['cr_year'])*12 - data_small['cr_month']# how many month ago from 2016"
      ],
      "execution_count": 13,
      "outputs": []
    },
    {
      "cell_type": "code",
      "metadata": {
        "id": "L9yyCJeKt_Fi",
        "colab_type": "code",
        "colab": {}
      },
      "source": [
        "# no longer need year month and cr_line\n",
        "del data_small['cr_year']\n",
        "del data_small['cr_month']\n",
        "del data_small['earliest_cr_line']"
      ],
      "execution_count": 14,
      "outputs": []
    },
    {
      "cell_type": "code",
      "metadata": {
        "id": "D6QOih3vubNk",
        "colab_type": "code",
        "colab": {}
      },
      "source": [
        "#move label to the last column\n",
        "label = data_small['loan_status']\n",
        "del data_small['loan_status']\n",
        "data_small['loan_status'] = label"
      ],
      "execution_count": 16,
      "outputs": []
    },
    {
      "cell_type": "code",
      "metadata": {
        "id": "zamJxLPrw8v-",
        "colab_type": "code",
        "colab": {}
      },
      "source": [
        "#lable encoder \n",
        "from sklearn import preprocessing\n",
        "le = preprocessing.LabelEncoder()\n",
        "le.fit(data_small['loan_status'])\n",
        "le.transform(data_small['loan_status'])\n",
        "data_small['loan_status']=le.fit_transform(data_small['loan_status'])"
      ],
      "execution_count": 17,
      "outputs": []
    },
    {
      "cell_type": "code",
      "metadata": {
        "id": "kVGyCtL1h32g",
        "colab_type": "code",
        "colab": {
          "base_uri": "https://localhost:8080/",
          "height": 544
        },
        "outputId": "fa7a602f-52ab-4c46-df38-e5bd0fdee4e8"
      },
      "source": [
        "# see how I did!\n",
        "data_small.info()"
      ],
      "execution_count": 18,
      "outputs": [
        {
          "output_type": "stream",
          "text": [
            "<class 'pandas.core.frame.DataFrame'>\n",
            "RangeIndex: 50000 entries, 0 to 49999\n",
            "Data columns (total 24 columns):\n",
            " #   Column                   Non-Null Count  Dtype  \n",
            "---  ------                   --------------  -----  \n",
            " 0   loan_amnt                50000 non-null  int64  \n",
            " 1   funded_amnt              50000 non-null  int64  \n",
            " 2   funded_amnt_inv          50000 non-null  float64\n",
            " 3   term                     50000 non-null  object \n",
            " 4   int_rate                 50000 non-null  float64\n",
            " 5   installment              50000 non-null  float64\n",
            " 6   grade                    50000 non-null  object \n",
            " 7   emp_length               46698 non-null  float64\n",
            " 8   home_ownership           50000 non-null  int64  \n",
            " 9   annual_inc               50000 non-null  float64\n",
            " 10  verification_status      50000 non-null  object \n",
            " 11  purpose                  50000 non-null  object \n",
            " 12  addr_state               50000 non-null  object \n",
            " 13  dti                      49991 non-null  float64\n",
            " 14  open_acc                 50000 non-null  float64\n",
            " 15  revol_bal                50000 non-null  int64  \n",
            " 16  revol_util               49963 non-null  float64\n",
            " 17  total_acc                50000 non-null  float64\n",
            " 18  total_pymnt              50000 non-null  float64\n",
            " 19  total_pymnt_inv          50000 non-null  float64\n",
            " 20  total_rec_prncp          50000 non-null  float64\n",
            " 21  total_rec_int            50000 non-null  float64\n",
            " 22  earliest_cr_line_months  50000 non-null  int64  \n",
            " 23  loan_status              50000 non-null  int64  \n",
            "dtypes: float64(13), int64(6), object(5)\n",
            "memory usage: 9.2+ MB\n"
          ],
          "name": "stdout"
        }
      ]
    },
    {
      "cell_type": "code",
      "metadata": {
        "id": "eV4Jjq1mfts5",
        "colab_type": "code",
        "colab": {}
      },
      "source": [
        "from sklearn.pipeline import Pipeline\n",
        "from sklearn.impute import SimpleImputer\n",
        "from sklearn.preprocessing import StandardScaler, MinMaxScaler,LabelEncoder,OneHotEncoder\n",
        "from sklearn.compose import ColumnTransformer"
      ],
      "execution_count": 19,
      "outputs": []
    },
    {
      "cell_type": "code",
      "metadata": {
        "id": "QbvYApvuk02g",
        "colab_type": "code",
        "colab": {
          "base_uri": "https://localhost:8080/",
          "height": 340
        },
        "outputId": "088d02ac-39f7-4e2a-e4a1-3edd8d9c43f4"
      },
      "source": [
        "#get lists of numeric features:\n",
        "list(data_small.select_dtypes(np.number))"
      ],
      "execution_count": 20,
      "outputs": [
        {
          "output_type": "execute_result",
          "data": {
            "text/plain": [
              "['loan_amnt',\n",
              " 'funded_amnt',\n",
              " 'funded_amnt_inv',\n",
              " 'int_rate',\n",
              " 'installment',\n",
              " 'emp_length',\n",
              " 'home_ownership',\n",
              " 'annual_inc',\n",
              " 'dti',\n",
              " 'open_acc',\n",
              " 'revol_bal',\n",
              " 'revol_util',\n",
              " 'total_acc',\n",
              " 'total_pymnt',\n",
              " 'total_pymnt_inv',\n",
              " 'total_rec_prncp',\n",
              " 'total_rec_int',\n",
              " 'earliest_cr_line_months',\n",
              " 'loan_status']"
            ]
          },
          "metadata": {
            "tags": []
          },
          "execution_count": 20
        }
      ]
    },
    {
      "cell_type": "code",
      "metadata": {
        "id": "PrGWOsqVlOha",
        "colab_type": "code",
        "colab": {}
      },
      "source": [
        "num_features = ['loan_amnt',\n",
        " 'funded_amnt',\n",
        " 'funded_amnt_inv',\n",
        " 'int_rate',\n",
        " 'installment',\n",
        " 'emp_length',\n",
        " 'home_ownership',\n",
        " 'annual_inc',\n",
        " 'dti',\n",
        " 'open_acc',\n",
        " 'revol_bal',\n",
        " 'revol_util',\n",
        " 'total_acc',\n",
        " 'total_pymnt',\n",
        " 'total_pymnt_inv',\n",
        " 'total_rec_prncp',\n",
        " 'total_rec_int',\n",
        " 'earliest_cr_line_months']"
      ],
      "execution_count": 21,
      "outputs": []
    },
    {
      "cell_type": "code",
      "metadata": {
        "id": "t2dzOooDkMxr",
        "colab_type": "code",
        "colab": {}
      },
      "source": [
        "#get lists of categortical features:\n",
        "cat_features = list(data_small.select_dtypes(object))"
      ],
      "execution_count": 22,
      "outputs": []
    },
    {
      "cell_type": "code",
      "metadata": {
        "id": "40e6FiJlqdE8",
        "colab_type": "code",
        "colab": {}
      },
      "source": [
        "# Create DataPipelines:\n",
        "# For Numerical features:\n",
        "num_transformer = Pipeline(\n",
        "    steps = [\n",
        "    ('imputer', SimpleImputer(strategy = 'median')),\n",
        "    ('scaler', StandardScaler())\n",
        "    ])\n",
        "# For Categorical features:\n",
        "cat_transformer = Pipeline(\n",
        "    steps = [\n",
        "    ('imputer', SimpleImputer(strategy = 'constant', fill_value = 'NotApp')), #Use an alternative value to indicate NA in the dataset\n",
        "    ('OneHot', OneHotEncoder())\n",
        "    ])"
      ],
      "execution_count": 23,
      "outputs": []
    },
    {
      "cell_type": "code",
      "metadata": {
        "id": "x2AIJ84PrSoz",
        "colab_type": "code",
        "colab": {}
      },
      "source": [
        "data_preprocessor  = ColumnTransformer(\n",
        "    transformers = [\n",
        "        ('numerical', num_transformer, num_features),\n",
        "        ('categorical', cat_transformer, cat_features)\n",
        "    ])"
      ],
      "execution_count": 24,
      "outputs": []
    },
    {
      "cell_type": "markdown",
      "metadata": {
        "id": "HyKgSJpFvEXy",
        "colab_type": "text"
      },
      "source": [
        "# Part III Data Transformation & Feature selection"
      ]
    },
    {
      "cell_type": "code",
      "metadata": {
        "id": "a2bgvuerqhFH",
        "colab_type": "code",
        "colab": {}
      },
      "source": [
        "from sklearn.feature_selection import RFE\n",
        "from sklearn.ensemble import RandomForestRegressor\n",
        "rf_estimator = RandomForestRegressor(n_jobs=-1, n_estimators=50, verbose=1)\n",
        "rfe_rfr = RFE(estimator= rf_estimator , # use RandomeForestRegressor to select features\n",
        "          verbose=1, \n",
        "          n_features_to_select= 50 #select 50 most important features.\n",
        "         )"
      ],
      "execution_count": 26,
      "outputs": []
    },
    {
      "cell_type": "code",
      "metadata": {
        "id": "rJ5s0-WsvvP1",
        "colab_type": "code",
        "colab": {}
      },
      "source": [
        "data_prep_pipeline  = Pipeline(steps=[('preprocessor', data_preprocessor), #This performs the data preparation steps in the cell above\n",
        "                                      ('feature_selection',  rfe_rfr)#TODO: identify a feature selection algorithm or exclude this line if you have previously performed feature selection on the data.  \n",
        "                                                                     # I tried both SVM and RFRressor to eliminate features, RFR worked a lot better                   \n",
        "                    ])\n",
        "\n",
        "transformed_data    = data_prep_pipeline.fit_transform(data_small.iloc[:, :-1], data_small['loan_status']) #transform the data"
      ],
      "execution_count": null,
      "outputs": []
    },
    {
      "cell_type": "code",
      "metadata": {
        "id": "XVjK6jp7nL_7",
        "colab_type": "code",
        "colab": {
          "base_uri": "https://localhost:8080/",
          "height": 34
        },
        "outputId": "a724b901-5d39-432f-f906-60d686a6a9d7"
      },
      "source": [
        "transformed_data.shape"
      ],
      "execution_count": 28,
      "outputs": [
        {
          "output_type": "execute_result",
          "data": {
            "text/plain": [
              "(50000, 50)"
            ]
          },
          "metadata": {
            "tags": []
          },
          "execution_count": 28
        }
      ]
    },
    {
      "cell_type": "markdown",
      "metadata": {
        "id": "0T9JS34i3yc3",
        "colab_type": "text"
      },
      "source": [
        "# Part IV Build the model"
      ]
    },
    {
      "cell_type": "code",
      "metadata": {
        "id": "7xh_3FdK3r6t",
        "colab_type": "code",
        "colab": {}
      },
      "source": [
        "# Split data for cross-validation\n",
        "\n",
        "from sklearn.model_selection import train_test_split\n",
        "\n",
        "X = transformed_data\n",
        "\n",
        "y = data_small['loan_status']\n",
        "\n",
        "X_train, X_test, y_train, y_test = train_test_split(X, y, random_state=50, test_size=.30)"
      ],
      "execution_count": 29,
      "outputs": []
    },
    {
      "cell_type": "markdown",
      "metadata": {
        "id": "3XHQsRqcEhxu",
        "colab_type": "text"
      },
      "source": [
        "### Random Forest Model"
      ]
    },
    {
      "cell_type": "code",
      "metadata": {
        "id": "dXRTe_8G5ef4",
        "colab_type": "code",
        "colab": {
          "base_uri": "https://localhost:8080/",
          "height": 34
        },
        "outputId": "23eb2c32-c858-4e4e-8d96-f0d6bd9eb0ee"
      },
      "source": [
        "# Build Random forest model\n",
        "# use the best parameters found by random search in the next cell\n",
        "# {'random_state': 50, 'n_estimators': 100, 'min_samples_split': 2, 'max_features': 20, 'max_depth': 100, 'criterion': 'entropy'}\n",
        "from sklearn import metrics\n",
        "from sklearn.ensemble import RandomForestClassifier\n",
        "\n",
        "rf_classifier = RandomForestClassifier(criterion= 'entropy' ,  \n",
        "                                    max_depth= 100,     \n",
        "                                    max_features= 20 ,  \n",
        "                                    min_samples_split= 2, \n",
        "                                    n_estimators= 100 , \n",
        "                                    random_state= 50 \n",
        "                                    )\n",
        "rf_classifier.fit(X_train, y_train)\n",
        "y_pred = rf_classifier.predict(X_test)\n",
        "from sklearn.metrics import accuracy_score\n",
        "accuracy_score(y_test,y_pred)"
      ],
      "execution_count": 41,
      "outputs": [
        {
          "output_type": "execute_result",
          "data": {
            "text/plain": [
              "0.9961333333333333"
            ]
          },
          "metadata": {
            "tags": []
          },
          "execution_count": 41
        }
      ]
    },
    {
      "cell_type": "code",
      "metadata": {
        "id": "NOAUf73v4JDV",
        "colab_type": "code",
        "colab": {
          "base_uri": "https://localhost:8080/",
          "height": 1000
        },
        "outputId": "2ace1be3-a7d4-4d54-aa3c-de5dc79f0847"
      },
      "source": [
        "# Ramdon Search parameters...\n",
        "params = {\n",
        "    'criterion': ['entropy','gini'],\n",
        "    'max_depth': [50,100], \n",
        "    'max_features':[10,20] , \n",
        "    'min_samples_split':[2], \n",
        "    'n_estimators' : [100,200],\n",
        "    'random_state':[50,100]\n",
        "    }\n",
        "\n",
        "from sklearn.model_selection import RandomizedSearchCV\n",
        "ran_search = RandomizedSearchCV (estimator=rf_classifier, \n",
        "                                 param_distributions=params, \n",
        "                                 n_iter=10,\n",
        "                                 scoring='accuracy', \n",
        "                                 verbose=3, \n",
        "                                 cv=10,\n",
        "                                 ) \n",
        "\n",
        "\n",
        "estimator = ran_search.fit(X_train, y_train)\n",
        "\n",
        "\n",
        "print('Best parameters:', estimator.best_params_)\n",
        "print('Best score:', estimator.best_score_) #note: if the score is low, increase n_iter or adjust the values in step 5."
      ],
      "execution_count": 40,
      "outputs": [
        {
          "output_type": "stream",
          "text": [
            "Fitting 10 folds for each of 10 candidates, totalling 100 fits\n",
            "[CV] random_state=100, n_estimators=100, min_samples_split=2, max_features=10, max_depth=50, criterion=entropy \n"
          ],
          "name": "stdout"
        },
        {
          "output_type": "stream",
          "text": [
            "[Parallel(n_jobs=1)]: Using backend SequentialBackend with 1 concurrent workers.\n"
          ],
          "name": "stderr"
        },
        {
          "output_type": "stream",
          "text": [
            "[CV]  random_state=100, n_estimators=100, min_samples_split=2, max_features=10, max_depth=50, criterion=entropy, score=0.994, total=  22.0s\n",
            "[CV] random_state=100, n_estimators=100, min_samples_split=2, max_features=10, max_depth=50, criterion=entropy \n"
          ],
          "name": "stdout"
        },
        {
          "output_type": "stream",
          "text": [
            "[Parallel(n_jobs=1)]: Done   1 out of   1 | elapsed:   22.1s remaining:    0.0s\n"
          ],
          "name": "stderr"
        },
        {
          "output_type": "stream",
          "text": [
            "[CV]  random_state=100, n_estimators=100, min_samples_split=2, max_features=10, max_depth=50, criterion=entropy, score=0.991, total=  22.4s\n",
            "[CV] random_state=100, n_estimators=100, min_samples_split=2, max_features=10, max_depth=50, criterion=entropy \n"
          ],
          "name": "stdout"
        },
        {
          "output_type": "stream",
          "text": [
            "[Parallel(n_jobs=1)]: Done   2 out of   2 | elapsed:   44.4s remaining:    0.0s\n"
          ],
          "name": "stderr"
        },
        {
          "output_type": "stream",
          "text": [
            "[CV]  random_state=100, n_estimators=100, min_samples_split=2, max_features=10, max_depth=50, criterion=entropy, score=0.993, total=  22.5s\n",
            "[CV] random_state=100, n_estimators=100, min_samples_split=2, max_features=10, max_depth=50, criterion=entropy \n",
            "[CV]  random_state=100, n_estimators=100, min_samples_split=2, max_features=10, max_depth=50, criterion=entropy, score=0.993, total=  22.6s\n",
            "[CV] random_state=100, n_estimators=100, min_samples_split=2, max_features=10, max_depth=50, criterion=entropy \n",
            "[CV]  random_state=100, n_estimators=100, min_samples_split=2, max_features=10, max_depth=50, criterion=entropy, score=0.989, total=  22.4s\n",
            "[CV] random_state=100, n_estimators=100, min_samples_split=2, max_features=10, max_depth=50, criterion=entropy \n",
            "[CV]  random_state=100, n_estimators=100, min_samples_split=2, max_features=10, max_depth=50, criterion=entropy, score=0.993, total=  22.7s\n",
            "[CV] random_state=100, n_estimators=100, min_samples_split=2, max_features=10, max_depth=50, criterion=entropy \n",
            "[CV]  random_state=100, n_estimators=100, min_samples_split=2, max_features=10, max_depth=50, criterion=entropy, score=0.993, total=  22.5s\n",
            "[CV] random_state=100, n_estimators=100, min_samples_split=2, max_features=10, max_depth=50, criterion=entropy \n",
            "[CV]  random_state=100, n_estimators=100, min_samples_split=2, max_features=10, max_depth=50, criterion=entropy, score=0.994, total=  22.5s\n",
            "[CV] random_state=100, n_estimators=100, min_samples_split=2, max_features=10, max_depth=50, criterion=entropy \n",
            "[CV]  random_state=100, n_estimators=100, min_samples_split=2, max_features=10, max_depth=50, criterion=entropy, score=0.991, total=  22.4s\n",
            "[CV] random_state=100, n_estimators=100, min_samples_split=2, max_features=10, max_depth=50, criterion=entropy \n",
            "[CV]  random_state=100, n_estimators=100, min_samples_split=2, max_features=10, max_depth=50, criterion=entropy, score=0.991, total=  22.3s\n",
            "[CV] random_state=50, n_estimators=100, min_samples_split=2, max_features=10, max_depth=100, criterion=entropy \n",
            "[CV]  random_state=50, n_estimators=100, min_samples_split=2, max_features=10, max_depth=100, criterion=entropy, score=0.994, total=  21.8s\n",
            "[CV] random_state=50, n_estimators=100, min_samples_split=2, max_features=10, max_depth=100, criterion=entropy \n",
            "[CV]  random_state=50, n_estimators=100, min_samples_split=2, max_features=10, max_depth=100, criterion=entropy, score=0.992, total=  21.4s\n",
            "[CV] random_state=50, n_estimators=100, min_samples_split=2, max_features=10, max_depth=100, criterion=entropy \n",
            "[CV]  random_state=50, n_estimators=100, min_samples_split=2, max_features=10, max_depth=100, criterion=entropy, score=0.993, total=  22.0s\n",
            "[CV] random_state=50, n_estimators=100, min_samples_split=2, max_features=10, max_depth=100, criterion=entropy \n",
            "[CV]  random_state=50, n_estimators=100, min_samples_split=2, max_features=10, max_depth=100, criterion=entropy, score=0.994, total=  21.7s\n",
            "[CV] random_state=50, n_estimators=100, min_samples_split=2, max_features=10, max_depth=100, criterion=entropy \n",
            "[CV]  random_state=50, n_estimators=100, min_samples_split=2, max_features=10, max_depth=100, criterion=entropy, score=0.989, total=  21.4s\n",
            "[CV] random_state=50, n_estimators=100, min_samples_split=2, max_features=10, max_depth=100, criterion=entropy \n",
            "[CV]  random_state=50, n_estimators=100, min_samples_split=2, max_features=10, max_depth=100, criterion=entropy, score=0.995, total=  21.7s\n",
            "[CV] random_state=50, n_estimators=100, min_samples_split=2, max_features=10, max_depth=100, criterion=entropy \n",
            "[CV]  random_state=50, n_estimators=100, min_samples_split=2, max_features=10, max_depth=100, criterion=entropy, score=0.993, total=  21.4s\n",
            "[CV] random_state=50, n_estimators=100, min_samples_split=2, max_features=10, max_depth=100, criterion=entropy \n",
            "[CV]  random_state=50, n_estimators=100, min_samples_split=2, max_features=10, max_depth=100, criterion=entropy, score=0.994, total=  21.4s\n",
            "[CV] random_state=50, n_estimators=100, min_samples_split=2, max_features=10, max_depth=100, criterion=entropy \n",
            "[CV]  random_state=50, n_estimators=100, min_samples_split=2, max_features=10, max_depth=100, criterion=entropy, score=0.992, total=  21.8s\n",
            "[CV] random_state=50, n_estimators=100, min_samples_split=2, max_features=10, max_depth=100, criterion=entropy \n",
            "[CV]  random_state=50, n_estimators=100, min_samples_split=2, max_features=10, max_depth=100, criterion=entropy, score=0.991, total=  21.7s\n",
            "[CV] random_state=100, n_estimators=200, min_samples_split=2, max_features=20, max_depth=50, criterion=gini \n",
            "[CV]  random_state=100, n_estimators=200, min_samples_split=2, max_features=20, max_depth=50, criterion=gini, score=0.996, total=  56.5s\n",
            "[CV] random_state=100, n_estimators=200, min_samples_split=2, max_features=20, max_depth=50, criterion=gini \n",
            "[CV]  random_state=100, n_estimators=200, min_samples_split=2, max_features=20, max_depth=50, criterion=gini, score=0.995, total=  57.0s\n",
            "[CV] random_state=100, n_estimators=200, min_samples_split=2, max_features=20, max_depth=50, criterion=gini \n",
            "[CV]  random_state=100, n_estimators=200, min_samples_split=2, max_features=20, max_depth=50, criterion=gini, score=0.997, total=  57.2s\n",
            "[CV] random_state=100, n_estimators=200, min_samples_split=2, max_features=20, max_depth=50, criterion=gini \n",
            "[CV]  random_state=100, n_estimators=200, min_samples_split=2, max_features=20, max_depth=50, criterion=gini, score=0.996, total=  57.7s\n",
            "[CV] random_state=100, n_estimators=200, min_samples_split=2, max_features=20, max_depth=50, criterion=gini \n",
            "[CV]  random_state=100, n_estimators=200, min_samples_split=2, max_features=20, max_depth=50, criterion=gini, score=0.993, total=  56.0s\n",
            "[CV] random_state=100, n_estimators=200, min_samples_split=2, max_features=20, max_depth=50, criterion=gini \n",
            "[CV]  random_state=100, n_estimators=200, min_samples_split=2, max_features=20, max_depth=50, criterion=gini, score=0.996, total=  56.5s\n",
            "[CV] random_state=100, n_estimators=200, min_samples_split=2, max_features=20, max_depth=50, criterion=gini \n",
            "[CV]  random_state=100, n_estimators=200, min_samples_split=2, max_features=20, max_depth=50, criterion=gini, score=0.996, total=  56.8s\n",
            "[CV] random_state=100, n_estimators=200, min_samples_split=2, max_features=20, max_depth=50, criterion=gini \n",
            "[CV]  random_state=100, n_estimators=200, min_samples_split=2, max_features=20, max_depth=50, criterion=gini, score=0.996, total=  56.9s\n",
            "[CV] random_state=100, n_estimators=200, min_samples_split=2, max_features=20, max_depth=50, criterion=gini \n",
            "[CV]  random_state=100, n_estimators=200, min_samples_split=2, max_features=20, max_depth=50, criterion=gini, score=0.995, total=  56.4s\n",
            "[CV] random_state=100, n_estimators=200, min_samples_split=2, max_features=20, max_depth=50, criterion=gini \n",
            "[CV]  random_state=100, n_estimators=200, min_samples_split=2, max_features=20, max_depth=50, criterion=gini, score=0.993, total=  56.0s\n",
            "[CV] random_state=100, n_estimators=100, min_samples_split=2, max_features=10, max_depth=50, criterion=gini \n",
            "[CV]  random_state=100, n_estimators=100, min_samples_split=2, max_features=10, max_depth=50, criterion=gini, score=0.994, total=  22.1s\n",
            "[CV] random_state=100, n_estimators=100, min_samples_split=2, max_features=10, max_depth=50, criterion=gini \n",
            "[CV]  random_state=100, n_estimators=100, min_samples_split=2, max_features=10, max_depth=50, criterion=gini, score=0.991, total=  22.3s\n",
            "[CV] random_state=100, n_estimators=100, min_samples_split=2, max_features=10, max_depth=50, criterion=gini \n",
            "[CV]  random_state=100, n_estimators=100, min_samples_split=2, max_features=10, max_depth=50, criterion=gini, score=0.992, total=  22.8s\n",
            "[CV] random_state=100, n_estimators=100, min_samples_split=2, max_features=10, max_depth=50, criterion=gini \n",
            "[CV]  random_state=100, n_estimators=100, min_samples_split=2, max_features=10, max_depth=50, criterion=gini, score=0.993, total=  22.5s\n",
            "[CV] random_state=100, n_estimators=100, min_samples_split=2, max_features=10, max_depth=50, criterion=gini \n",
            "[CV]  random_state=100, n_estimators=100, min_samples_split=2, max_features=10, max_depth=50, criterion=gini, score=0.987, total=  22.6s\n",
            "[CV] random_state=100, n_estimators=100, min_samples_split=2, max_features=10, max_depth=50, criterion=gini \n",
            "[CV]  random_state=100, n_estimators=100, min_samples_split=2, max_features=10, max_depth=50, criterion=gini, score=0.994, total=  22.8s\n",
            "[CV] random_state=100, n_estimators=100, min_samples_split=2, max_features=10, max_depth=50, criterion=gini \n",
            "[CV]  random_state=100, n_estimators=100, min_samples_split=2, max_features=10, max_depth=50, criterion=gini, score=0.992, total=  22.5s\n",
            "[CV] random_state=100, n_estimators=100, min_samples_split=2, max_features=10, max_depth=50, criterion=gini \n",
            "[CV]  random_state=100, n_estimators=100, min_samples_split=2, max_features=10, max_depth=50, criterion=gini, score=0.994, total=  22.8s\n",
            "[CV] random_state=100, n_estimators=100, min_samples_split=2, max_features=10, max_depth=50, criterion=gini \n",
            "[CV]  random_state=100, n_estimators=100, min_samples_split=2, max_features=10, max_depth=50, criterion=gini, score=0.991, total=  22.8s\n",
            "[CV] random_state=100, n_estimators=100, min_samples_split=2, max_features=10, max_depth=50, criterion=gini \n",
            "[CV]  random_state=100, n_estimators=100, min_samples_split=2, max_features=10, max_depth=50, criterion=gini, score=0.991, total=  21.9s\n",
            "[CV] random_state=50, n_estimators=200, min_samples_split=2, max_features=20, max_depth=50, criterion=entropy \n",
            "[CV]  random_state=50, n_estimators=200, min_samples_split=2, max_features=20, max_depth=50, criterion=entropy, score=0.996, total=  55.9s\n",
            "[CV] random_state=50, n_estimators=200, min_samples_split=2, max_features=20, max_depth=50, criterion=entropy \n",
            "[CV]  random_state=50, n_estimators=200, min_samples_split=2, max_features=20, max_depth=50, criterion=entropy, score=0.995, total=  55.7s\n",
            "[CV] random_state=50, n_estimators=200, min_samples_split=2, max_features=20, max_depth=50, criterion=entropy \n",
            "[CV]  random_state=50, n_estimators=200, min_samples_split=2, max_features=20, max_depth=50, criterion=entropy, score=0.998, total=  55.5s\n",
            "[CV] random_state=50, n_estimators=200, min_samples_split=2, max_features=20, max_depth=50, criterion=entropy \n",
            "[CV]  random_state=50, n_estimators=200, min_samples_split=2, max_features=20, max_depth=50, criterion=entropy, score=0.997, total=  56.1s\n",
            "[CV] random_state=50, n_estimators=200, min_samples_split=2, max_features=20, max_depth=50, criterion=entropy \n",
            "[CV]  random_state=50, n_estimators=200, min_samples_split=2, max_features=20, max_depth=50, criterion=entropy, score=0.994, total=  55.4s\n",
            "[CV] random_state=50, n_estimators=200, min_samples_split=2, max_features=20, max_depth=50, criterion=entropy \n",
            "[CV]  random_state=50, n_estimators=200, min_samples_split=2, max_features=20, max_depth=50, criterion=entropy, score=0.997, total=  55.6s\n",
            "[CV] random_state=50, n_estimators=200, min_samples_split=2, max_features=20, max_depth=50, criterion=entropy \n",
            "[CV]  random_state=50, n_estimators=200, min_samples_split=2, max_features=20, max_depth=50, criterion=entropy, score=0.997, total=  55.5s\n",
            "[CV] random_state=50, n_estimators=200, min_samples_split=2, max_features=20, max_depth=50, criterion=entropy \n",
            "[CV]  random_state=50, n_estimators=200, min_samples_split=2, max_features=20, max_depth=50, criterion=entropy, score=0.996, total=  55.5s\n",
            "[CV] random_state=50, n_estimators=200, min_samples_split=2, max_features=20, max_depth=50, criterion=entropy \n",
            "[CV]  random_state=50, n_estimators=200, min_samples_split=2, max_features=20, max_depth=50, criterion=entropy, score=0.995, total=  55.0s\n",
            "[CV] random_state=50, n_estimators=200, min_samples_split=2, max_features=20, max_depth=50, criterion=entropy \n",
            "[CV]  random_state=50, n_estimators=200, min_samples_split=2, max_features=20, max_depth=50, criterion=entropy, score=0.993, total=  54.8s\n",
            "[CV] random_state=100, n_estimators=200, min_samples_split=2, max_features=10, max_depth=50, criterion=gini \n",
            "[CV]  random_state=100, n_estimators=200, min_samples_split=2, max_features=10, max_depth=50, criterion=gini, score=0.994, total=  43.5s\n",
            "[CV] random_state=100, n_estimators=200, min_samples_split=2, max_features=10, max_depth=50, criterion=gini \n",
            "[CV]  random_state=100, n_estimators=200, min_samples_split=2, max_features=10, max_depth=50, criterion=gini, score=0.991, total=  43.8s\n",
            "[CV] random_state=100, n_estimators=200, min_samples_split=2, max_features=10, max_depth=50, criterion=gini \n",
            "[CV]  random_state=100, n_estimators=200, min_samples_split=2, max_features=10, max_depth=50, criterion=gini, score=0.993, total=  44.5s\n",
            "[CV] random_state=100, n_estimators=200, min_samples_split=2, max_features=10, max_depth=50, criterion=gini \n",
            "[CV]  random_state=100, n_estimators=200, min_samples_split=2, max_features=10, max_depth=50, criterion=gini, score=0.993, total=  44.3s\n",
            "[CV] random_state=100, n_estimators=200, min_samples_split=2, max_features=10, max_depth=50, criterion=gini \n",
            "[CV]  random_state=100, n_estimators=200, min_samples_split=2, max_features=10, max_depth=50, criterion=gini, score=0.988, total=  43.8s\n",
            "[CV] random_state=100, n_estimators=200, min_samples_split=2, max_features=10, max_depth=50, criterion=gini \n",
            "[CV]  random_state=100, n_estimators=200, min_samples_split=2, max_features=10, max_depth=50, criterion=gini, score=0.994, total=  44.0s\n",
            "[CV] random_state=100, n_estimators=200, min_samples_split=2, max_features=10, max_depth=50, criterion=gini \n",
            "[CV]  random_state=100, n_estimators=200, min_samples_split=2, max_features=10, max_depth=50, criterion=gini, score=0.992, total=  44.2s\n",
            "[CV] random_state=100, n_estimators=200, min_samples_split=2, max_features=10, max_depth=50, criterion=gini \n",
            "[CV]  random_state=100, n_estimators=200, min_samples_split=2, max_features=10, max_depth=50, criterion=gini, score=0.994, total=  44.5s\n",
            "[CV] random_state=100, n_estimators=200, min_samples_split=2, max_features=10, max_depth=50, criterion=gini \n",
            "[CV]  random_state=100, n_estimators=200, min_samples_split=2, max_features=10, max_depth=50, criterion=gini, score=0.990, total=  43.9s\n",
            "[CV] random_state=100, n_estimators=200, min_samples_split=2, max_features=10, max_depth=50, criterion=gini \n",
            "[CV]  random_state=100, n_estimators=200, min_samples_split=2, max_features=10, max_depth=50, criterion=gini, score=0.991, total=  43.1s\n",
            "[CV] random_state=50, n_estimators=100, min_samples_split=2, max_features=20, max_depth=100, criterion=gini \n",
            "[CV]  random_state=50, n_estimators=100, min_samples_split=2, max_features=20, max_depth=100, criterion=gini, score=0.996, total=  28.3s\n",
            "[CV] random_state=50, n_estimators=100, min_samples_split=2, max_features=20, max_depth=100, criterion=gini \n",
            "[CV]  random_state=50, n_estimators=100, min_samples_split=2, max_features=20, max_depth=100, criterion=gini, score=0.995, total=  28.0s\n",
            "[CV] random_state=50, n_estimators=100, min_samples_split=2, max_features=20, max_depth=100, criterion=gini \n",
            "[CV]  random_state=50, n_estimators=100, min_samples_split=2, max_features=20, max_depth=100, criterion=gini, score=0.997, total=  28.3s\n",
            "[CV] random_state=50, n_estimators=100, min_samples_split=2, max_features=20, max_depth=100, criterion=gini \n",
            "[CV]  random_state=50, n_estimators=100, min_samples_split=2, max_features=20, max_depth=100, criterion=gini, score=0.996, total=  28.2s\n",
            "[CV] random_state=50, n_estimators=100, min_samples_split=2, max_features=20, max_depth=100, criterion=gini \n",
            "[CV]  random_state=50, n_estimators=100, min_samples_split=2, max_features=20, max_depth=100, criterion=gini, score=0.993, total=  28.2s\n",
            "[CV] random_state=50, n_estimators=100, min_samples_split=2, max_features=20, max_depth=100, criterion=gini \n",
            "[CV]  random_state=50, n_estimators=100, min_samples_split=2, max_features=20, max_depth=100, criterion=gini, score=0.996, total=  28.4s\n",
            "[CV] random_state=50, n_estimators=100, min_samples_split=2, max_features=20, max_depth=100, criterion=gini \n",
            "[CV]  random_state=50, n_estimators=100, min_samples_split=2, max_features=20, max_depth=100, criterion=gini, score=0.996, total=  28.4s\n",
            "[CV] random_state=50, n_estimators=100, min_samples_split=2, max_features=20, max_depth=100, criterion=gini \n",
            "[CV]  random_state=50, n_estimators=100, min_samples_split=2, max_features=20, max_depth=100, criterion=gini, score=0.996, total=  28.0s\n",
            "[CV] random_state=50, n_estimators=100, min_samples_split=2, max_features=20, max_depth=100, criterion=gini \n",
            "[CV]  random_state=50, n_estimators=100, min_samples_split=2, max_features=20, max_depth=100, criterion=gini, score=0.993, total=  28.0s\n",
            "[CV] random_state=50, n_estimators=100, min_samples_split=2, max_features=20, max_depth=100, criterion=gini \n",
            "[CV]  random_state=50, n_estimators=100, min_samples_split=2, max_features=20, max_depth=100, criterion=gini, score=0.993, total=  28.0s\n",
            "[CV] random_state=50, n_estimators=200, min_samples_split=2, max_features=10, max_depth=100, criterion=gini \n",
            "[CV]  random_state=50, n_estimators=200, min_samples_split=2, max_features=10, max_depth=100, criterion=gini, score=0.994, total=  42.9s\n",
            "[CV] random_state=50, n_estimators=200, min_samples_split=2, max_features=10, max_depth=100, criterion=gini \n",
            "[CV]  random_state=50, n_estimators=200, min_samples_split=2, max_features=10, max_depth=100, criterion=gini, score=0.992, total=  43.0s\n",
            "[CV] random_state=50, n_estimators=200, min_samples_split=2, max_features=10, max_depth=100, criterion=gini \n",
            "[CV]  random_state=50, n_estimators=200, min_samples_split=2, max_features=10, max_depth=100, criterion=gini, score=0.993, total=  43.7s\n",
            "[CV] random_state=50, n_estimators=200, min_samples_split=2, max_features=10, max_depth=100, criterion=gini \n",
            "[CV]  random_state=50, n_estimators=200, min_samples_split=2, max_features=10, max_depth=100, criterion=gini, score=0.993, total=  43.3s\n",
            "[CV] random_state=50, n_estimators=200, min_samples_split=2, max_features=10, max_depth=100, criterion=gini \n",
            "[CV]  random_state=50, n_estimators=200, min_samples_split=2, max_features=10, max_depth=100, criterion=gini, score=0.987, total=  43.2s\n",
            "[CV] random_state=50, n_estimators=200, min_samples_split=2, max_features=10, max_depth=100, criterion=gini \n",
            "[CV]  random_state=50, n_estimators=200, min_samples_split=2, max_features=10, max_depth=100, criterion=gini, score=0.993, total=  43.8s\n",
            "[CV] random_state=50, n_estimators=200, min_samples_split=2, max_features=10, max_depth=100, criterion=gini \n",
            "[CV]  random_state=50, n_estimators=200, min_samples_split=2, max_features=10, max_depth=100, criterion=gini, score=0.992, total=  42.7s\n",
            "[CV] random_state=50, n_estimators=200, min_samples_split=2, max_features=10, max_depth=100, criterion=gini \n",
            "[CV]  random_state=50, n_estimators=200, min_samples_split=2, max_features=10, max_depth=100, criterion=gini, score=0.993, total=  43.4s\n",
            "[CV] random_state=50, n_estimators=200, min_samples_split=2, max_features=10, max_depth=100, criterion=gini \n",
            "[CV]  random_state=50, n_estimators=200, min_samples_split=2, max_features=10, max_depth=100, criterion=gini, score=0.990, total=  42.6s\n",
            "[CV] random_state=50, n_estimators=200, min_samples_split=2, max_features=10, max_depth=100, criterion=gini \n",
            "[CV]  random_state=50, n_estimators=200, min_samples_split=2, max_features=10, max_depth=100, criterion=gini, score=0.990, total=  42.9s\n",
            "[CV] random_state=50, n_estimators=100, min_samples_split=2, max_features=20, max_depth=100, criterion=entropy \n",
            "[CV]  random_state=50, n_estimators=100, min_samples_split=2, max_features=20, max_depth=100, criterion=entropy, score=0.996, total=  27.5s\n",
            "[CV] random_state=50, n_estimators=100, min_samples_split=2, max_features=20, max_depth=100, criterion=entropy \n",
            "[CV]  random_state=50, n_estimators=100, min_samples_split=2, max_features=20, max_depth=100, criterion=entropy, score=0.995, total=  27.0s\n",
            "[CV] random_state=50, n_estimators=100, min_samples_split=2, max_features=20, max_depth=100, criterion=entropy \n",
            "[CV]  random_state=50, n_estimators=100, min_samples_split=2, max_features=20, max_depth=100, criterion=entropy, score=0.998, total=  27.6s\n",
            "[CV] random_state=50, n_estimators=100, min_samples_split=2, max_features=20, max_depth=100, criterion=entropy \n",
            "[CV]  random_state=50, n_estimators=100, min_samples_split=2, max_features=20, max_depth=100, criterion=entropy, score=0.997, total=  27.8s\n",
            "[CV] random_state=50, n_estimators=100, min_samples_split=2, max_features=20, max_depth=100, criterion=entropy \n",
            "[CV]  random_state=50, n_estimators=100, min_samples_split=2, max_features=20, max_depth=100, criterion=entropy, score=0.994, total=  27.5s\n",
            "[CV] random_state=50, n_estimators=100, min_samples_split=2, max_features=20, max_depth=100, criterion=entropy \n",
            "[CV]  random_state=50, n_estimators=100, min_samples_split=2, max_features=20, max_depth=100, criterion=entropy, score=0.997, total=  27.6s\n",
            "[CV] random_state=50, n_estimators=100, min_samples_split=2, max_features=20, max_depth=100, criterion=entropy \n",
            "[CV]  random_state=50, n_estimators=100, min_samples_split=2, max_features=20, max_depth=100, criterion=entropy, score=0.997, total=  27.5s\n",
            "[CV] random_state=50, n_estimators=100, min_samples_split=2, max_features=20, max_depth=100, criterion=entropy \n",
            "[CV]  random_state=50, n_estimators=100, min_samples_split=2, max_features=20, max_depth=100, criterion=entropy, score=0.997, total=  27.5s\n",
            "[CV] random_state=50, n_estimators=100, min_samples_split=2, max_features=20, max_depth=100, criterion=entropy \n",
            "[CV]  random_state=50, n_estimators=100, min_samples_split=2, max_features=20, max_depth=100, criterion=entropy, score=0.996, total=  27.3s\n",
            "[CV] random_state=50, n_estimators=100, min_samples_split=2, max_features=20, max_depth=100, criterion=entropy \n",
            "[CV]  random_state=50, n_estimators=100, min_samples_split=2, max_features=20, max_depth=100, criterion=entropy, score=0.993, total=  27.3s\n",
            "[CV] random_state=100, n_estimators=100, min_samples_split=2, max_features=20, max_depth=100, criterion=gini \n",
            "[CV]  random_state=100, n_estimators=100, min_samples_split=2, max_features=20, max_depth=100, criterion=gini, score=0.996, total=  28.7s\n",
            "[CV] random_state=100, n_estimators=100, min_samples_split=2, max_features=20, max_depth=100, criterion=gini \n",
            "[CV]  random_state=100, n_estimators=100, min_samples_split=2, max_features=20, max_depth=100, criterion=gini, score=0.995, total=  28.5s\n",
            "[CV] random_state=100, n_estimators=100, min_samples_split=2, max_features=20, max_depth=100, criterion=gini \n",
            "[CV]  random_state=100, n_estimators=100, min_samples_split=2, max_features=20, max_depth=100, criterion=gini, score=0.997, total=  29.0s\n",
            "[CV] random_state=100, n_estimators=100, min_samples_split=2, max_features=20, max_depth=100, criterion=gini \n",
            "[CV]  random_state=100, n_estimators=100, min_samples_split=2, max_features=20, max_depth=100, criterion=gini, score=0.996, total=  29.6s\n",
            "[CV] random_state=100, n_estimators=100, min_samples_split=2, max_features=20, max_depth=100, criterion=gini \n",
            "[CV]  random_state=100, n_estimators=100, min_samples_split=2, max_features=20, max_depth=100, criterion=gini, score=0.992, total=  28.0s\n",
            "[CV] random_state=100, n_estimators=100, min_samples_split=2, max_features=20, max_depth=100, criterion=gini \n",
            "[CV]  random_state=100, n_estimators=100, min_samples_split=2, max_features=20, max_depth=100, criterion=gini, score=0.996, total=  28.4s\n",
            "[CV] random_state=100, n_estimators=100, min_samples_split=2, max_features=20, max_depth=100, criterion=gini \n",
            "[CV]  random_state=100, n_estimators=100, min_samples_split=2, max_features=20, max_depth=100, criterion=gini, score=0.996, total=  28.4s\n",
            "[CV] random_state=100, n_estimators=100, min_samples_split=2, max_features=20, max_depth=100, criterion=gini \n",
            "[CV]  random_state=100, n_estimators=100, min_samples_split=2, max_features=20, max_depth=100, criterion=gini, score=0.996, total=  28.3s\n",
            "[CV] random_state=100, n_estimators=100, min_samples_split=2, max_features=20, max_depth=100, criterion=gini \n",
            "[CV]  random_state=100, n_estimators=100, min_samples_split=2, max_features=20, max_depth=100, criterion=gini, score=0.994, total=  27.7s\n",
            "[CV] random_state=100, n_estimators=100, min_samples_split=2, max_features=20, max_depth=100, criterion=gini \n",
            "[CV]  random_state=100, n_estimators=100, min_samples_split=2, max_features=20, max_depth=100, criterion=gini, score=0.992, total=  28.3s\n"
          ],
          "name": "stdout"
        },
        {
          "output_type": "stream",
          "text": [
            "[Parallel(n_jobs=1)]: Done 100 out of 100 | elapsed: 58.3min finished\n"
          ],
          "name": "stderr"
        },
        {
          "output_type": "stream",
          "text": [
            "Best parameters: {'random_state': 50, 'n_estimators': 100, 'min_samples_split': 2, 'max_features': 20, 'max_depth': 100, 'criterion': 'entropy'}\n",
            "Best score: 0.9959142857142858\n"
          ],
          "name": "stdout"
        }
      ]
    },
    {
      "cell_type": "code",
      "metadata": {
        "id": "rQ6Q_-PSZnvB",
        "colab_type": "code",
        "colab": {}
      },
      "source": [
        "from sklearn.metrics import classification_report,confusion_matrix\n",
        "predictions_rf = rf_classifier.predict(X_test)"
      ],
      "execution_count": 42,
      "outputs": []
    },
    {
      "cell_type": "code",
      "metadata": {
        "id": "dBGPRIkUClSo",
        "colab_type": "code",
        "colab": {
          "base_uri": "https://localhost:8080/",
          "height": 51
        },
        "outputId": "0f20d646-f761-4cbf-91b5-7283c340a6c3"
      },
      "source": [
        "print(confusion_matrix(y_test,predictions_rf))"
      ],
      "execution_count": 43,
      "outputs": [
        {
          "output_type": "stream",
          "text": [
            "[[7377   58]\n",
            " [   0 7565]]\n"
          ],
          "name": "stdout"
        }
      ]
    },
    {
      "cell_type": "code",
      "metadata": {
        "id": "LH85tU00Eu4P",
        "colab_type": "code",
        "colab": {
          "base_uri": "https://localhost:8080/",
          "height": 170
        },
        "outputId": "cc5d29b6-a816-417b-9d8d-e9d39e4200e6"
      },
      "source": [
        "print(classification_report(y_test,predictions_rf))"
      ],
      "execution_count": 44,
      "outputs": [
        {
          "output_type": "stream",
          "text": [
            "              precision    recall  f1-score   support\n",
            "\n",
            "           0       1.00      0.99      1.00      7435\n",
            "           1       0.99      1.00      1.00      7565\n",
            "\n",
            "    accuracy                           1.00     15000\n",
            "   macro avg       1.00      1.00      1.00     15000\n",
            "weighted avg       1.00      1.00      1.00     15000\n",
            "\n"
          ],
          "name": "stdout"
        }
      ]
    },
    {
      "cell_type": "markdown",
      "metadata": {
        "id": "WnkpFNpeZ8S3",
        "colab_type": "text"
      },
      "source": [
        "## Nerual Network model"
      ]
    },
    {
      "cell_type": "code",
      "metadata": {
        "id": "DrTElC3G8B4r",
        "colab_type": "code",
        "colab": {
          "base_uri": "https://localhost:8080/",
          "height": 153
        },
        "outputId": "eb56038d-decb-480b-e341-26a11aaa2169"
      },
      "source": [
        "from sklearn.neural_network import MLPClassifier\n",
        "mlp = MLPClassifier(hidden_layer_sizes=(50,50,50))\n",
        "mlp.fit(X_train,y_train)"
      ],
      "execution_count": 45,
      "outputs": [
        {
          "output_type": "execute_result",
          "data": {
            "text/plain": [
              "MLPClassifier(activation='relu', alpha=0.0001, batch_size='auto', beta_1=0.9,\n",
              "              beta_2=0.999, early_stopping=False, epsilon=1e-08,\n",
              "              hidden_layer_sizes=(50, 50, 50), learning_rate='constant',\n",
              "              learning_rate_init=0.001, max_fun=15000, max_iter=200,\n",
              "              momentum=0.9, n_iter_no_change=10, nesterovs_momentum=True,\n",
              "              power_t=0.5, random_state=None, shuffle=True, solver='adam',\n",
              "              tol=0.0001, validation_fraction=0.1, verbose=False,\n",
              "              warm_start=False)"
            ]
          },
          "metadata": {
            "tags": []
          },
          "execution_count": 45
        }
      ]
    },
    {
      "cell_type": "code",
      "metadata": {
        "id": "UP0LQ9ax85ea",
        "colab_type": "code",
        "colab": {
          "base_uri": "https://localhost:8080/",
          "height": 51
        },
        "outputId": "930d1f8b-4465-4a71-ad2a-039e9b3a743c"
      },
      "source": [
        "predictions_mlp = mlp.predict(X_test)\n",
        "print(confusion_matrix(y_test,predictions_mlp))"
      ],
      "execution_count": 51,
      "outputs": [
        {
          "output_type": "stream",
          "text": [
            "[[7384   51]\n",
            " [   6 7559]]\n"
          ],
          "name": "stdout"
        }
      ]
    },
    {
      "cell_type": "code",
      "metadata": {
        "id": "p4k_Aq119Ayy",
        "colab_type": "code",
        "colab": {
          "base_uri": "https://localhost:8080/",
          "height": 170
        },
        "outputId": "6040a370-630d-45cb-d8e5-ebb4a18cf144"
      },
      "source": [
        "print(classification_report(y_test,predictions_mlp))"
      ],
      "execution_count": 52,
      "outputs": [
        {
          "output_type": "stream",
          "text": [
            "              precision    recall  f1-score   support\n",
            "\n",
            "           0       1.00      0.99      1.00      7435\n",
            "           1       0.99      1.00      1.00      7565\n",
            "\n",
            "    accuracy                           1.00     15000\n",
            "   macro avg       1.00      1.00      1.00     15000\n",
            "weighted avg       1.00      1.00      1.00     15000\n",
            "\n"
          ],
          "name": "stdout"
        }
      ]
    },
    {
      "cell_type": "markdown",
      "metadata": {
        "id": "O2YswGpreKWh",
        "colab_type": "text"
      },
      "source": [
        "# Part V Prediction with Hold-Out Data"
      ]
    },
    {
      "cell_type": "code",
      "metadata": {
        "id": "rqLYiXxSgSJm",
        "colab_type": "code",
        "colab": {}
      },
      "source": [
        "# load Hold-out testing set\n",
        "sample_size = 5000\n",
        "\n",
        "df_test = df.groupby('loan_status').apply(lambda x: x.sample(sample_size))"
      ],
      "execution_count": 107,
      "outputs": []
    },
    {
      "cell_type": "code",
      "metadata": {
        "id": "1PcgMTQ0gtmu",
        "colab_type": "code",
        "colab": {}
      },
      "source": [
        "# Clean_up and prepare for predition\n",
        "del df_test['id'] # meanless feature\n",
        "del df_test['inq_last_6mths'] # most value is 0\n",
        "del df_test['pub_rec'] # more than 75% values is 0\n",
        "del df_test['out_prncp'] # all value 0\n",
        "del df_test['out_prncp_inv'] # all value 0"
      ],
      "execution_count": 108,
      "outputs": []
    },
    {
      "cell_type": "code",
      "metadata": {
        "id": "tR8O1ltwhMi5",
        "colab_type": "code",
        "colab": {}
      },
      "source": [
        "df_test['emp_length'] = df_test['emp_length'].replace(['< 1 year','10+ years'],['0 year','10 years'])\n",
        "df_test['emp_length']= df_test['emp_length'].str[0:2]\n",
        "df_test['emp_length'] = df_test['emp_length'].astype(float)"
      ],
      "execution_count": 109,
      "outputs": []
    },
    {
      "cell_type": "code",
      "metadata": {
        "id": "t8NtWrLNhp38",
        "colab_type": "code",
        "colab": {}
      },
      "source": [
        "Home_mapper = {'OWN':1,'MORTGAGE':2,'RENT':3,'ANY':4,'OTHER':4,'NONE':5}\n",
        "df_test['home_ownership'] = df_test['home_ownership'].map(Home_mapper)"
      ],
      "execution_count": 110,
      "outputs": []
    },
    {
      "cell_type": "code",
      "metadata": {
        "id": "0dateXAxhsx4",
        "colab_type": "code",
        "colab": {}
      },
      "source": [
        "df_test['cr_month'] = df_test['earliest_cr_line'].str[0:3]#get month\n",
        "\n",
        "Mon_mapper = {'Jan':1,'Feb':2,'Mar':3,'Apr':4,'May':5,'Jun':6,'Jul':7,'Aug':8,'Sep':9,'Oct':10,'Nov':11,'Dec':12}#dict of month name to number\n",
        "\n",
        "df_test['cr_month'] = df_test['cr_month'].map(Mon_mapper)#convert month\n",
        "\n",
        "df_test['cr_year'] = df_test['earliest_cr_line'].str[4:8]#get year\n",
        "\n",
        "df_test['cr_year'] = df_test['cr_year'].astype(int)# convert year\n",
        "\n",
        "df_test['earliest_cr_line_months']= (2016-df_test['cr_year'])*12 - df_test['cr_month']# how many month ago from 2016"
      ],
      "execution_count": 112,
      "outputs": []
    },
    {
      "cell_type": "code",
      "metadata": {
        "id": "ktGfhs2OnWpB",
        "colab_type": "code",
        "colab": {}
      },
      "source": [
        "del df_test['cr_year']\n",
        "del df_test['cr_month']\n",
        "del df_test['earliest_cr_line']"
      ],
      "execution_count": 114,
      "outputs": []
    },
    {
      "cell_type": "code",
      "metadata": {
        "id": "_QyB-b_Ums6I",
        "colab_type": "code",
        "colab": {}
      },
      "source": [
        "#lable encoder \n",
        "label = df_test['loan_status']\n",
        "del df_test['loan_status']\n",
        "df_test['loan_status'] = label\n",
        "le.fit(df_test['loan_status'])\n",
        "le.transform(df_test['loan_status'])\n",
        "df_test['loan_status']=le.fit_transform(df_test['loan_status'])"
      ],
      "execution_count": 115,
      "outputs": []
    },
    {
      "cell_type": "code",
      "metadata": {
        "id": "7Vi3n9w5iFrw",
        "colab_type": "code",
        "colab": {
          "base_uri": "https://localhost:8080/",
          "height": 340
        },
        "outputId": "8fb224c6-be3e-40a2-a10f-30ff7087303c"
      },
      "source": [
        "df_test.head()"
      ],
      "execution_count": 116,
      "outputs": [
        {
          "output_type": "execute_result",
          "data": {
            "text/html": [
              "<div>\n",
              "<style scoped>\n",
              "    .dataframe tbody tr th:only-of-type {\n",
              "        vertical-align: middle;\n",
              "    }\n",
              "\n",
              "    .dataframe tbody tr th {\n",
              "        vertical-align: top;\n",
              "    }\n",
              "\n",
              "    .dataframe thead th {\n",
              "        text-align: right;\n",
              "    }\n",
              "</style>\n",
              "<table border=\"1\" class=\"dataframe\">\n",
              "  <thead>\n",
              "    <tr style=\"text-align: right;\">\n",
              "      <th></th>\n",
              "      <th></th>\n",
              "      <th>loan_amnt</th>\n",
              "      <th>funded_amnt</th>\n",
              "      <th>funded_amnt_inv</th>\n",
              "      <th>term</th>\n",
              "      <th>int_rate</th>\n",
              "      <th>installment</th>\n",
              "      <th>grade</th>\n",
              "      <th>emp_length</th>\n",
              "      <th>home_ownership</th>\n",
              "      <th>annual_inc</th>\n",
              "      <th>verification_status</th>\n",
              "      <th>purpose</th>\n",
              "      <th>addr_state</th>\n",
              "      <th>dti</th>\n",
              "      <th>open_acc</th>\n",
              "      <th>revol_bal</th>\n",
              "      <th>revol_util</th>\n",
              "      <th>total_acc</th>\n",
              "      <th>total_pymnt</th>\n",
              "      <th>total_pymnt_inv</th>\n",
              "      <th>total_rec_prncp</th>\n",
              "      <th>total_rec_int</th>\n",
              "      <th>earliest_cr_line_months</th>\n",
              "      <th>loan_status</th>\n",
              "    </tr>\n",
              "    <tr>\n",
              "      <th>loan_status</th>\n",
              "      <th></th>\n",
              "      <th></th>\n",
              "      <th></th>\n",
              "      <th></th>\n",
              "      <th></th>\n",
              "      <th></th>\n",
              "      <th></th>\n",
              "      <th></th>\n",
              "      <th></th>\n",
              "      <th></th>\n",
              "      <th></th>\n",
              "      <th></th>\n",
              "      <th></th>\n",
              "      <th></th>\n",
              "      <th></th>\n",
              "      <th></th>\n",
              "      <th></th>\n",
              "      <th></th>\n",
              "      <th></th>\n",
              "      <th></th>\n",
              "      <th></th>\n",
              "      <th></th>\n",
              "      <th></th>\n",
              "      <th></th>\n",
              "      <th></th>\n",
              "    </tr>\n",
              "  </thead>\n",
              "  <tbody>\n",
              "    <tr>\n",
              "      <th rowspan=\"5\" valign=\"top\">Charged Off</th>\n",
              "      <th>408671</th>\n",
              "      <td>15000</td>\n",
              "      <td>15000</td>\n",
              "      <td>15000.0</td>\n",
              "      <td>60 months</td>\n",
              "      <td>16.99</td>\n",
              "      <td>372.71</td>\n",
              "      <td>D</td>\n",
              "      <td>2.0</td>\n",
              "      <td>3</td>\n",
              "      <td>60307.0</td>\n",
              "      <td>Verified</td>\n",
              "      <td>debt_consolidation</td>\n",
              "      <td>TX</td>\n",
              "      <td>2.57</td>\n",
              "      <td>7.0</td>\n",
              "      <td>4200</td>\n",
              "      <td>26.8</td>\n",
              "      <td>30.0</td>\n",
              "      <td>4964.05</td>\n",
              "      <td>4964.05</td>\n",
              "      <td>1892.36</td>\n",
              "      <td>2193.29</td>\n",
              "      <td>162</td>\n",
              "      <td>0</td>\n",
              "    </tr>\n",
              "    <tr>\n",
              "      <th>98920</th>\n",
              "      <td>21150</td>\n",
              "      <td>21150</td>\n",
              "      <td>21150.0</td>\n",
              "      <td>60 months</td>\n",
              "      <td>16.99</td>\n",
              "      <td>525.52</td>\n",
              "      <td>D</td>\n",
              "      <td>3.0</td>\n",
              "      <td>2</td>\n",
              "      <td>53400.0</td>\n",
              "      <td>Verified</td>\n",
              "      <td>debt_consolidation</td>\n",
              "      <td>KS</td>\n",
              "      <td>14.02</td>\n",
              "      <td>10.0</td>\n",
              "      <td>9437</td>\n",
              "      <td>74.3</td>\n",
              "      <td>22.0</td>\n",
              "      <td>14809.24</td>\n",
              "      <td>14809.24</td>\n",
              "      <td>5980.64</td>\n",
              "      <td>6686.60</td>\n",
              "      <td>350</td>\n",
              "      <td>0</td>\n",
              "    </tr>\n",
              "    <tr>\n",
              "      <th>92544</th>\n",
              "      <td>10000</td>\n",
              "      <td>10000</td>\n",
              "      <td>10000.0</td>\n",
              "      <td>60 months</td>\n",
              "      <td>16.55</td>\n",
              "      <td>246.12</td>\n",
              "      <td>D</td>\n",
              "      <td>10.0</td>\n",
              "      <td>2</td>\n",
              "      <td>50000.0</td>\n",
              "      <td>Source Verified</td>\n",
              "      <td>debt_consolidation</td>\n",
              "      <td>LA</td>\n",
              "      <td>10.95</td>\n",
              "      <td>8.0</td>\n",
              "      <td>7061</td>\n",
              "      <td>10.4</td>\n",
              "      <td>28.0</td>\n",
              "      <td>2882.40</td>\n",
              "      <td>2882.40</td>\n",
              "      <td>329.11</td>\n",
              "      <td>400.06</td>\n",
              "      <td>129</td>\n",
              "      <td>0</td>\n",
              "    </tr>\n",
              "    <tr>\n",
              "      <th>426497</th>\n",
              "      <td>10000</td>\n",
              "      <td>10000</td>\n",
              "      <td>9950.0</td>\n",
              "      <td>36 months</td>\n",
              "      <td>13.67</td>\n",
              "      <td>340.18</td>\n",
              "      <td>C</td>\n",
              "      <td>9.0</td>\n",
              "      <td>3</td>\n",
              "      <td>40000.0</td>\n",
              "      <td>Source Verified</td>\n",
              "      <td>debt_consolidation</td>\n",
              "      <td>CA</td>\n",
              "      <td>39.92</td>\n",
              "      <td>10.0</td>\n",
              "      <td>6118</td>\n",
              "      <td>42.5</td>\n",
              "      <td>28.0</td>\n",
              "      <td>9887.95</td>\n",
              "      <td>9838.51</td>\n",
              "      <td>7525.38</td>\n",
              "      <td>2222.06</td>\n",
              "      <td>188</td>\n",
              "      <td>0</td>\n",
              "    </tr>\n",
              "    <tr>\n",
              "      <th>58194</th>\n",
              "      <td>28000</td>\n",
              "      <td>28000</td>\n",
              "      <td>27975.0</td>\n",
              "      <td>60 months</td>\n",
              "      <td>22.35</td>\n",
              "      <td>778.92</td>\n",
              "      <td>F</td>\n",
              "      <td>1.0</td>\n",
              "      <td>2</td>\n",
              "      <td>143000.0</td>\n",
              "      <td>Verified</td>\n",
              "      <td>small_business</td>\n",
              "      <td>SC</td>\n",
              "      <td>23.66</td>\n",
              "      <td>14.0</td>\n",
              "      <td>21341</td>\n",
              "      <td>84.7</td>\n",
              "      <td>33.0</td>\n",
              "      <td>8476.70</td>\n",
              "      <td>8469.16</td>\n",
              "      <td>2488.41</td>\n",
              "      <td>4497.48</td>\n",
              "      <td>153</td>\n",
              "      <td>0</td>\n",
              "    </tr>\n",
              "  </tbody>\n",
              "</table>\n",
              "</div>"
            ],
            "text/plain": [
              "                    loan_amnt  ...  loan_status\n",
              "loan_status                    ...             \n",
              "Charged Off 408671      15000  ...            0\n",
              "            98920       21150  ...            0\n",
              "            92544       10000  ...            0\n",
              "            426497      10000  ...            0\n",
              "            58194       28000  ...            0\n",
              "\n",
              "[5 rows x 24 columns]"
            ]
          },
          "metadata": {
            "tags": []
          },
          "execution_count": 116
        }
      ]
    },
    {
      "cell_type": "code",
      "metadata": {
        "id": "BU8zjwqzmdZQ",
        "colab_type": "code",
        "colab": {}
      },
      "source": [
        "transformed_test_data    = data_prep_pipeline.fit_transform(df_test.iloc[:, :-1], df_test['loan_status']) "
      ],
      "execution_count": null,
      "outputs": []
    },
    {
      "cell_type": "code",
      "metadata": {
        "id": "rs5RxteRpETA",
        "colab_type": "code",
        "colab": {}
      },
      "source": [
        "X_HoldOut = transformed_test_data\n",
        "y_HoldOut = df_test['loan_status']"
      ],
      "execution_count": 118,
      "outputs": []
    },
    {
      "cell_type": "code",
      "metadata": {
        "id": "6GFi79hDpVms",
        "colab_type": "code",
        "colab": {
          "base_uri": "https://localhost:8080/",
          "height": 170
        },
        "outputId": "f778b0d6-34ab-4f4e-c9d7-b3c65e151c27"
      },
      "source": [
        "predictions_rf_HO = rf_classifier.predict(X_HoldOut)\n",
        "print(classification_report(y_HoldOut,predictions_rf_HO))"
      ],
      "execution_count": 119,
      "outputs": [
        {
          "output_type": "stream",
          "text": [
            "              precision    recall  f1-score   support\n",
            "\n",
            "           0       1.00      0.99      1.00      5000\n",
            "           1       0.99      1.00      1.00      5000\n",
            "\n",
            "    accuracy                           1.00     10000\n",
            "   macro avg       1.00      1.00      1.00     10000\n",
            "weighted avg       1.00      1.00      1.00     10000\n",
            "\n"
          ],
          "name": "stdout"
        }
      ]
    },
    {
      "cell_type": "code",
      "metadata": {
        "id": "yHUNL7_1qu61",
        "colab_type": "code",
        "colab": {
          "base_uri": "https://localhost:8080/",
          "height": 170
        },
        "outputId": "6e936ce6-db9f-41a4-e5e8-b1c8bf11bdc1"
      },
      "source": [
        "predictions_mlp_HO = mlp.predict(X_HoldOut)\n",
        "print(classification_report(y_HoldOut,predictions_mlp_HO))"
      ],
      "execution_count": 120,
      "outputs": [
        {
          "output_type": "stream",
          "text": [
            "              precision    recall  f1-score   support\n",
            "\n",
            "           0       0.86      0.98      0.92      5000\n",
            "           1       0.98      0.84      0.91      5000\n",
            "\n",
            "    accuracy                           0.91     10000\n",
            "   macro avg       0.92      0.91      0.91     10000\n",
            "weighted avg       0.92      0.91      0.91     10000\n",
            "\n"
          ],
          "name": "stdout"
        }
      ]
    }
  ]
}